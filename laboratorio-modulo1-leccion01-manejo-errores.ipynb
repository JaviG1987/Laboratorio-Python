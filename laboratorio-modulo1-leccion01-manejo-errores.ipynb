{
 "cells": [
  {
   "cell_type": "markdown",
   "metadata": {},
   "source": [
    "\n",
    "<div style=\"text-align: center;\">\n",
    "  <img src=\"https://github.com/Hack-io-Data/Imagenes/blob/main/01-LogosHackio/logo_celeste@4x.png?raw=true\" alt=\"esquema\" />\n",
    "</div>\n"
   ]
  },
  {
   "cell_type": "markdown",
   "metadata": {},
   "source": [
    "# Laboratorio de Python: manejo de errores."
   ]
  },
  {
   "cell_type": "markdown",
   "metadata": {},
   "source": [
    "## Ejercicio 1: División con manejo de excepciones\n",
    "\n",
    "Escribe un programa que pida al usuario dos números e intente dividirlos. Si el usuario ingresa un valor no numérico o intenta dividir por cero, maneja esas excepciones de manera adecuada. Asegúrate de mostrar un mensaje indicando si la división fue exitosa o no.\n"
   ]
  },
  {
   "cell_type": "code",
   "execution_count": null,
   "metadata": {},
   "outputs": [
    {
     "name": "stdout",
     "output_type": "stream",
     "text": [
      "Los numeros introducidos son: 9 y 4\n",
      "El resultado de la división es: 2.25\n"
     ]
    }
   ],
   "source": [
    "try:\n",
    "    numeros_input = int(input(\"Ingresa un numero: \"))\n",
    "    numero_input2 = int(input(\"Ingresa otro numero: \"))\n",
    "    print (f\"Los numeros introducidos son: {numeros_input} y {numero_input2}\")\n",
    "    division_numeros = numeros_input / numero_input2\n",
    "    print (f\"El resultado de la división es: {division_numeros}\")\n",
    "\n",
    "except ValueError:\n",
    "    print ( \"El dato introducido no es un valor numérico\")\n",
    "\n",
    "except ZeroDivisionError:\n",
    "    print (\"No se puede dividir por 0\")\n"
   ]
  },
  {
   "cell_type": "markdown",
   "metadata": {},
   "source": [
    "## Ejercicio 2: Acceso a archivos\n",
    "\n",
    "Escribe un programa que intente abrir un archivo llamado \"datos.txt\". Si el archivo no existe, captura la excepción y muestra un mensaje de error. Asegúrate de cerrar el archivo correctamente en la sección `finally`.\n"
   ]
  },
  {
   "cell_type": "code",
   "execution_count": 23,
   "metadata": {},
   "outputs": [
    {
     "name": "stdout",
     "output_type": "stream",
     "text": [
      "Error: el archivo no existe\n",
      "Asegurate de cerrar el archivo\n"
     ]
    }
   ],
   "source": [
    "try:\n",
    "    with open (\"datos.txt\", \"r\") as archivo:\n",
    "        contenido = archivo.read ()\n",
    "        print (contenido)\n",
    "\n",
    "except IOError:\n",
    "        print (\"Error: el archivo no existe\")\n",
    "\n",
    "finally:\n",
    "        print (\"Asegurate de cerrar el archivo\")\n",
    "       "
   ]
  },
  {
   "cell_type": "markdown",
   "metadata": {},
   "source": [
    "## Ejercicio 3: Conversión de cadenas a enteros\n",
    "\n",
    "Escribe un programa que pida una lista de números separados por comas y convierta cada valor a un número entero. Maneja las excepciones para valores que no sean convertibles y asegúrate de informar si la conversión fue exitosa o no.\n"
   ]
  },
  {
   "cell_type": "code",
   "execution_count": 1,
   "metadata": {},
   "outputs": [
    {
     "name": "stdout",
     "output_type": "stream",
     "text": [
      "<class 'list'>\n"
     ]
    }
   ],
   "source": [
    "lista_numeros = (input(\"Introduce una lista de numeros separados por comas\"))\n",
    "lista_numero_numero = lista_numeros.split (\",\")\n",
    "lista_numeros_vacia = []\n",
    "\n",
    "try:\n",
    "    for i in lista_numero_numero:\n",
    "        lista_numeros_vacia.append (int(i))\n",
    "        \n",
    "\n",
    "except ValueError:\n",
    "    print (f\"El dato {i} no es convertible a número entero\")\n",
    "\n",
    "finally: print (type(lista_numeros_vacia))\n",
    "         \n",
    "\n"
   ]
  },
  {
   "cell_type": "code",
   "execution_count": 4,
   "metadata": {},
   "outputs": [
    {
     "name": "stdout",
     "output_type": "stream",
     "text": [
      "Los siguientes numeros han sido convertidos a números enteros [1, 2, 5]\n"
     ]
    }
   ],
   "source": [
    "print (f\"Los siguientes numeros han sido convertidos a números enteros {lista_numeros_vacia}\")"
   ]
  },
  {
   "cell_type": "markdown",
   "metadata": {},
   "source": [
    "#### Ejercicio 4: Cálculo del promedio con manejo de excepciones\n",
    "\n",
    "Escribe una función que reciba una lista de números y calcule su promedio. Si la lista está vacía, lanza una excepción personalizada y maneja el error adecuadamente.\n"
   ]
  },
  {
   "cell_type": "code",
   "execution_count": 21,
   "metadata": {},
   "outputs": [
    {
     "name": "stdout",
     "output_type": "stream",
     "text": [
      "La media de la lista es: 8.6 \n"
     ]
    }
   ],
   "source": [
    "\n",
    "def calcular_media (lista3): \n",
    "    try: \n",
    "        contador = len (lista3)\n",
    "        suma_lista = sum (lista3)\n",
    "        media = suma_lista / contador\n",
    "        print (f\"La media de la lista es: {media} \")\n",
    "    except ZeroDivisionError:\n",
    "      print (\"la lista está vacía\")\n",
    "\n",
    "\n",
    "calcular_media ([1,10,25,3,4])"
   ]
  },
  {
   "cell_type": "code",
   "execution_count": 22,
   "metadata": {},
   "outputs": [
    {
     "name": "stdout",
     "output_type": "stream",
     "text": [
      "la lista está vacía\n"
     ]
    }
   ],
   "source": [
    "calcular_media ([])"
   ]
  },
  {
   "cell_type": "markdown",
   "metadata": {},
   "source": [
    "#### Ejercicio 5: Conversión segura de números\n",
    "\n",
    "Escribe un programa que convierta una cadena a número flotante e intente realizar una operación aritmética. Si la conversión falla, maneja la excepción y continúa con el flujo normal."
   ]
  },
  {
   "cell_type": "code",
   "execution_count": 32,
   "metadata": {},
   "outputs": [
    {
     "name": "stdout",
     "output_type": "stream",
     "text": [
      "El cuadrado de la cadena de numero es 152399025.0\n",
      "La cadena introducida no es convertiable a float\n"
     ]
    }
   ],
   "source": [
    "\n",
    "def cuadro_cadena (cadena):\n",
    "    try:\n",
    "        numero_flotante = float (cadena)\n",
    "        cuadrado = numero_flotante * numero_flotante\n",
    "        print (f\"El cuadrado de la cadena de numero es {cuadrado}\")\n",
    "\n",
    "    except ValueError:\n",
    "        print(\"La cadena introducida no es convertiable a float\")\n",
    "\n",
    "cuadro_cadena (\"12345\")\n",
    "cuadro_cadena (\"abvc\")"
   ]
  },
  {
   "cell_type": "markdown",
   "metadata": {},
   "source": [
    "#### Ejercicio 6: Acceso a claves en diccionarios\n",
    "\n",
    "Escribe un programa que intente acceder a una clave específica en un diccionario. Si la clave no existe, maneja la excepción `KeyError` y muestra un mensaje indicando el problema."
   ]
  },
  {
   "cell_type": "code",
   "execution_count": 47,
   "metadata": {},
   "outputs": [
    {
     "name": "stdout",
     "output_type": "stream",
     "text": [
      "La clave bebida no existe en el diccionario\n",
      "La clave comida está en el diccionario con el valor arroz\n"
     ]
    }
   ],
   "source": [
    "def acceso_clave (diccionario, clave):\n",
    "    try:\n",
    "         valor = diccionario [clave]\n",
    "         print (f\"La clave {clave} está en el diccionario con el valor {valor}\")\n",
    "    except KeyError:\n",
    "         print (f\"La clave {clave} no existe en el diccionario\")\n",
    "\n",
    "diccionario2 = {\"comida\": \"arroz\", \"marca\": \"sos\", \"variedad\": \"integral\"}\n",
    "clave2 = \"bebida\"\n",
    "\n",
    "acceso_clave (diccionario2, clave2)\n",
    "\n",
    "diccionario3 = {\"comida\": \"arroz\", \"marca\": \"sos\", \"variedad\": \"integral\"}\n",
    "clave3 = \"comida\"\n",
    "\n",
    "acceso_clave (diccionario3, clave3)"
   ]
  },
  {
   "cell_type": "markdown",
   "metadata": {},
   "source": [
    "\n",
    "#### Ejercicio 7: Verificación de entradas de usuario\n",
    "\n",
    "Escribe un programa que pida al usuario que introduzca su edad. Si el usuario ingresa un valor no numérico o un valor fuera del rango esperado (por ejemplo, menor que 0 o mayor que 120), maneja las excepciones adecuadamente."
   ]
  },
  {
   "cell_type": "code",
   "execution_count": 52,
   "metadata": {},
   "outputs": [
    {
     "name": "stdout",
     "output_type": "stream",
     "text": [
      " Tu tienes 7 años\n"
     ]
    }
   ],
   "source": [
    "try:\n",
    "    edad = int(input(\"Introduce tu edad:\"))\n",
    "    if edad > 0 and edad < 120:\n",
    "        print (f\" Tu tienes {edad} años\")\n",
    "\n",
    "except ValueError:\n",
    "    print (f\"EL dato introducido no es un dato compatible\")\n"
   ]
  },
  {
   "cell_type": "markdown",
   "metadata": {},
   "source": [
    "#### Ejercicio 8: Extracción de valores de una lista\n",
    "\n",
    "Escribe una función que intente acceder a un índice específico en una lista. Si el índice está fuera del rango, maneja la excepción `IndexError` y muestra un mensaje adecuado.\n"
   ]
  },
  {
   "cell_type": "code",
   "execution_count": 59,
   "metadata": {},
   "outputs": [
    {
     "name": "stdout",
     "output_type": "stream",
     "text": [
      "el indice que quieres acceder está fuera del rango de la lista\n",
      "El valor buscado en la lista es 123\n"
     ]
    }
   ],
   "source": [
    "def indice_lista (lista_indice, posicion_buscada ):\n",
    "    try:\n",
    "            valor_lista = lista_indice [posicion_buscada]\n",
    "            print (f\"El valor buscado en la lista es {valor_lista}\")\n",
    "\n",
    "    except IndexError:\n",
    "            print (\"el indice que quieres acceder está fuera del rango de la lista\")\n",
    "\n",
    "\n",
    "lista_indice2 = [1,\"hola\", 123, \"agua\"]\n",
    "posicion_buscada = 5\n",
    "indice_lista (lista_indice2, posicion_buscada)\n",
    "\n",
    "posicion_buscada = 2\n",
    "indice_lista (lista_indice2, posicion_buscada)"
   ]
  }
 ],
 "metadata": {
  "kernelspec": {
   "display_name": "Python 3",
   "language": "python",
   "name": "python3"
  },
  "language_info": {
   "codemirror_mode": {
    "name": "ipython",
    "version": 3
   },
   "file_extension": ".py",
   "mimetype": "text/x-python",
   "name": "python",
   "nbconvert_exporter": "python",
   "pygments_lexer": "ipython3",
   "version": "3.12.6"
  }
 },
 "nbformat": 4,
 "nbformat_minor": 2
}
