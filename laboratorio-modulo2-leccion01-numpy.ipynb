{
 "cells": [
  {
   "cell_type": "markdown",
   "id": "6db588db",
   "metadata": {},
   "source": [
    "<div style=\"text-align: center;\">\n",
    "  <img src=\"https://github.com/Hack-io-Data/Imagenes/blob/main/01-LogosHackio/logo_naranja@4x.png?raw=true\" alt=\"esquema\" />\n",
    "</div>"
   ]
  },
  {
   "cell_type": "code",
   "execution_count": 1,
   "id": "11d3f85f",
   "metadata": {},
   "outputs": [],
   "source": [
    "import os"
   ]
  },
  {
   "cell_type": "code",
   "execution_count": 4,
   "id": "64ff9293",
   "metadata": {},
   "outputs": [
    {
     "data": {
      "text/plain": [
       "['laboratorio-modulo2-leccion01-numpy.ipynb',\n",
       " 'laboratorio-modulo2-leccion05-limpieza.ipynb',\n",
       " 'laboratorio-modulo2-leccion04-visualizacion.ipynb',\n",
       " 'laboratorio-modulo2-leccion03-groupby.ipynb',\n",
       " 'laboratorio-modulo2-leccion02-eda-union.ipynb',\n",
       " 'laboratorio-modulo2-leccion03-filtrado.ipynb']"
      ]
     },
     "execution_count": 4,
     "metadata": {},
     "output_type": "execute_result"
    }
   ],
   "source": [
    "datos = os.listdir()\n",
    "datos"
   ]
  },
  {
   "cell_type": "code",
   "execution_count": null,
   "id": "74e36252",
   "metadata": {},
   "outputs": [],
   "source": [
    "diccioanrio_df = {diccioanrio_df[re.findall(\"\\d{4}\", i)[0]] : pd.read_csv(f\"..dato/{i}\") for i in datos}\n",
    "\n",
    "diccioanrio_df = {}\n",
    "for i in datos:\n",
    "    df = pd.read_csv(i)\n",
    "    diccioanrio_df[i.spl]\n"
   ]
  },
  {
   "cell_type": "markdown",
   "id": "11308d6c",
   "metadata": {},
   "source": [
    "for i in datos\n",
    "# Laboratorio de NumPy"
   ]
  },
  {
   "cell_type": "markdown",
   "id": "a19d4596",
   "metadata": {},
   "source": [
    "#### Ejercicio 1 - Crea un array de 1D con los números del 0 al 9."
   ]
  },
  {
   "cell_type": "code",
   "execution_count": 1,
   "id": "9d4e1d42",
   "metadata": {},
   "outputs": [
    {
     "data": {
      "text/plain": [
       "array([0, 1, 2, 3, 4, 5, 6, 7, 8, 9])"
      ]
     },
     "execution_count": 1,
     "metadata": {},
     "output_type": "execute_result"
    }
   ],
   "source": [
    "\n",
    "import numpy as np\n",
    "\n",
    "lista = [0,1,2,3,4,5,6,7,8,9]\n",
    "array_uni = np.array (lista)\n",
    "array_uni\n"
   ]
  },
  {
   "cell_type": "markdown",
   "id": "f4a41f16",
   "metadata": {},
   "source": [
    "#### Ejercicio 2 - Convierte un array 1D en un array 2D con 2 filas y 5 columnas."
   ]
  },
  {
   "cell_type": "code",
   "execution_count": 7,
   "id": "3d7cef3c",
   "metadata": {},
   "outputs": [
    {
     "data": {
      "text/plain": [
       "array([[0, 1, 2, 3, 4],\n",
       "       [5, 6, 7, 8, 9]])"
      ]
     },
     "execution_count": 7,
     "metadata": {},
     "output_type": "execute_result"
    }
   ],
   "source": [
    "array_bi = np.reshape (array_uni, [2,5])\n",
    "array_bi"
   ]
  },
  {
   "cell_type": "markdown",
   "id": "86bb8999",
   "metadata": {},
   "source": [
    "#### Ejercicio 3 - Encuentra los índices de los elementos con valor distinto de 0 en el siguiente array: [0, 2, 0, 3, 0, 4, 0]."
   ]
  },
  {
   "cell_type": "code",
   "execution_count": 18,
   "id": "d1fcfca4",
   "metadata": {},
   "outputs": [
    {
     "data": {
      "text/plain": [
       "array([1, 3, 5])"
      ]
     },
     "execution_count": 18,
     "metadata": {},
     "output_type": "execute_result"
    }
   ],
   "source": [
    "array1 = np.array ([0,2,0,3,0,4,0])\n",
    "mascara =  array1 != 0\n",
    "mascara\n",
    "distinto0 = array1 [mascara]\n",
    "distinto0\n",
    "indices_distinto0 = np.where (mascara)[0]\n",
    "indices_distinto0\n"
   ]
  },
  {
   "cell_type": "markdown",
   "id": "1c548419",
   "metadata": {},
   "source": [
    "#### Ejercicio 4 - Crea un array 3x3 con valores aleatorios entre 0 y 1."
   ]
  },
  {
   "cell_type": "code",
   "execution_count": 21,
   "id": "e1d4f19f",
   "metadata": {},
   "outputs": [
    {
     "data": {
      "text/plain": [
       "array([[0.69182812, 0.22058302, 0.13500741],\n",
       "       [0.31794679, 0.16029574, 0.50270916],\n",
       "       [0.19548186, 0.78908091, 0.1596978 ]])"
      ]
     },
     "execution_count": 21,
     "metadata": {},
     "output_type": "execute_result"
    }
   ],
   "source": [
    "array_aleatorio = np.random.rand(3,3)\n",
    "array_aleatorio"
   ]
  },
  {
   "cell_type": "markdown",
   "id": "aee82811",
   "metadata": {},
   "source": [
    "#### Ejercicio 5 - Crea un array de 10 números aleatorios y encuentra el valor máximo y mínimo."
   ]
  },
  {
   "cell_type": "code",
   "execution_count": 10,
   "id": "81fea76e",
   "metadata": {},
   "outputs": [
    {
     "name": "stdout",
     "output_type": "stream",
     "text": [
      "[6 6 7 4 6 0 0 2 5 1]\n",
      "el valor maximo es 7\n",
      "el valor minimo es 0\n"
     ]
    }
   ],
   "source": [
    "array_10num = np.random.randint (0,10,10)\n",
    "print (f\"{array_10num}\")\n",
    "max_valor = np.max (array_10num)\n",
    "print (f\"el valor maximo es {max_valor}\")\n",
    "min_valor = np.min (array_10num)\n",
    "print (f\"el valor minimo es {min_valor}\")"
   ]
  },
  {
   "cell_type": "markdown",
   "id": "6559375b",
   "metadata": {},
   "source": [
    "#### Ejercicio 6 - Crea un array de una dimensión e inviértelo. "
   ]
  },
  {
   "cell_type": "code",
   "execution_count": 23,
   "id": "31385db0",
   "metadata": {},
   "outputs": [
    {
     "name": "stdout",
     "output_type": "stream",
     "text": [
      "el array original es: [0.76817703 0.91670695 0.69889651 0.32237962 0.52444165]\n",
      "el array invertidol es: [0.52444165 0.32237962 0.69889651 0.91670695 0.76817703]\n"
     ]
    }
   ],
   "source": [
    "array_original = np.random.rand (5)\n",
    "print(f\"el array original es: {array_original}\")\n",
    "array_invertido = array_original [::-1]\n",
    "print(f\"el array invertidol es: {array_invertido}\")\n"
   ]
  },
  {
   "cell_type": "markdown",
   "id": "4457f046",
   "metadata": {},
   "source": [
    "\n",
    "#### Ejercicio 6 - Genera un array tridimensional de dimensiones (2, 3, 4) con valores enteros del 1 al 24.\n",
    "\n",
    "- Selecciona el primer `15` del array.\n",
    "\n",
    "- Selecciona todos los elementos del primer array. \n",
    "\n",
    "- Selecciona la última fila del último array\n"
   ]
  },
  {
   "cell_type": "code",
   "execution_count": null,
   "id": "3cab04c9",
   "metadata": {},
   "outputs": [
    {
     "name": "stdout",
     "output_type": "stream",
     "text": [
      "El array tridimensional es: \n",
      " [[[19  3  5 10]\n",
      "  [ 1 20 20 18]\n",
      "  [23 14 15  8]]\n",
      "\n",
      " [[21 23  6  0]\n",
      "  [ 9 16 12 14]\n",
      "  [ 7 19 18 18]]]\n",
      " el primer numero 15 está en la posicion (array([0]), array([2]), array([2]))\n"
     ]
    }
   ],
   "source": [
    "array_tri = np.random.randint (0,25,(2,3,4))\n",
    "print (f\"El array tridimensional es: \\n {array_tri}\")\n",
    "primer15 = np.where (array_tri == 15)\n",
    "\n",
    "print (f\" el primer numero 15 está en la posicion {primer15}\")\n",
    "\n",
    "\n"
   ]
  },
  {
   "cell_type": "code",
   "execution_count": 25,
   "id": "53b840dc",
   "metadata": {},
   "outputs": [
    {
     "data": {
      "text/plain": [
       "array([[19,  3,  5, 10],\n",
       "       [ 1, 20, 20, 18],\n",
       "       [23, 14, 15,  8]], dtype=int32)"
      ]
     },
     "execution_count": 25,
     "metadata": {},
     "output_type": "execute_result"
    }
   ],
   "source": [
    "array_tri [0]"
   ]
  },
  {
   "cell_type": "code",
   "execution_count": null,
   "id": "0d6f791d",
   "metadata": {},
   "outputs": [
    {
     "data": {
      "text/plain": [
       "array([ 7, 19, 18, 18], dtype=int32)"
      ]
     },
     "execution_count": 26,
     "metadata": {},
     "output_type": "execute_result"
    }
   ],
   "source": [
    "array_tri [1,2]\n"
   ]
  },
  {
   "cell_type": "markdown",
   "id": "681b7e4e",
   "metadata": {},
   "source": [
    "\n",
    "#### Ejercicio 7 - Genera un array tridimensional de dimensiones (3, 2, 5) con valores enteros del 1 al 30.\n",
    "\n",
    "- Selecciona el subarray que contiene los dos primeros elementos de cada fila del primer array.\n",
    "\n",
    "- Selecciona el subarray que contiene todas las filas de los dos últimos arrays.\n"
   ]
  },
  {
   "cell_type": "code",
   "execution_count": 31,
   "id": "b008a9aa",
   "metadata": {},
   "outputs": [
    {
     "name": "stdout",
     "output_type": "stream",
     "text": [
      "El array tridimensional es: \n",
      " [[[19 17  7  8 27]\n",
      "  [25 28  3  7  5]]\n",
      "\n",
      " [[ 6 21  8 10 25]\n",
      "  [26 28 20  1 20]]\n",
      "\n",
      " [[ 6 15 21  2 25]\n",
      "  [10  5 26  3  6]]]\n"
     ]
    }
   ],
   "source": [
    "array_tridimensional = np.random.randint (1,31, (3,2,5))\n",
    "print (f\"El array tridimensional es: \\n {array_tridimensional}\")\n"
   ]
  },
  {
   "cell_type": "code",
   "execution_count": 33,
   "id": "d2227923",
   "metadata": {},
   "outputs": [
    {
     "data": {
      "text/plain": [
       "array([[19, 17],\n",
       "       [25, 28]], dtype=int32)"
      ]
     },
     "execution_count": 33,
     "metadata": {},
     "output_type": "execute_result"
    }
   ],
   "source": [
    "array_tridimensional [0,:,:2]"
   ]
  },
  {
   "cell_type": "code",
   "execution_count": 37,
   "id": "dc97cdc4",
   "metadata": {},
   "outputs": [
    {
     "data": {
      "text/plain": [
       "array([[[ 6, 21,  8, 10, 25],\n",
       "        [26, 28, 20,  1, 20]],\n",
       "\n",
       "       [[ 6, 15, 21,  2, 25],\n",
       "        [10,  5, 26,  3,  6]]], dtype=int32)"
      ]
     },
     "execution_count": 37,
     "metadata": {},
     "output_type": "execute_result"
    }
   ],
   "source": [
    "array_tridimensional [1:,:,:]"
   ]
  },
  {
   "cell_type": "markdown",
   "id": "4fabd9d0",
   "metadata": {},
   "source": [
    "#### Ejercicio 8 - Genera un array tridimensional de dimensiones (4, 3, 2) con valores enteros del 1 al 24.\n",
    "\n",
    "- Cambia todos los elementos de la segunda fila del segundo array por `0`.\n",
    "\n",
    "- Cambia todos los valores del último array a `-1`.\n"
   ]
  },
  {
   "cell_type": "code",
   "execution_count": 39,
   "id": "0ef45b69",
   "metadata": {},
   "outputs": [
    {
     "name": "stdout",
     "output_type": "stream",
     "text": [
      "El array tridimensional es: \n",
      " [[[ 3 23]\n",
      "  [24 11]\n",
      "  [24  3]]\n",
      "\n",
      " [[ 2 19]\n",
      "  [ 7 24]\n",
      "  [ 1  1]]\n",
      "\n",
      " [[ 6 15]\n",
      "  [22  2]\n",
      "  [ 8 21]]\n",
      "\n",
      " [[22 19]\n",
      "  [18 23]\n",
      "  [21 17]]]\n"
     ]
    }
   ],
   "source": [
    "array_tridimensional2 = np.random.randint (1,25,(4,3,2))\n",
    "print (f\"El array tridimensional es: \\n {array_tridimensional2}\")"
   ]
  },
  {
   "cell_type": "code",
   "execution_count": 40,
   "id": "7ee85a24",
   "metadata": {},
   "outputs": [
    {
     "name": "stdout",
     "output_type": "stream",
     "text": [
      "El array tridimensional es: \n",
      " [[[ 3 23]\n",
      "  [24 11]\n",
      "  [24  3]]\n",
      "\n",
      " [[ 2 19]\n",
      "  [ 0  0]\n",
      "  [ 1  1]]\n",
      "\n",
      " [[ 6 15]\n",
      "  [22  2]\n",
      "  [ 8 21]]\n",
      "\n",
      " [[22 19]\n",
      "  [18 23]\n",
      "  [21 17]]]\n"
     ]
    }
   ],
   "source": [
    "array_tridimensional2 [1,1,:] = 0\n",
    "print (f\"El array tridimensional es: \\n {array_tridimensional2}\")"
   ]
  },
  {
   "cell_type": "code",
   "execution_count": 42,
   "id": "7d256c81",
   "metadata": {},
   "outputs": [
    {
     "name": "stdout",
     "output_type": "stream",
     "text": [
      "El array tridimensional es: \n",
      " [[[ 3 23]\n",
      "  [24 11]\n",
      "  [24  3]]\n",
      "\n",
      " [[ 2 19]\n",
      "  [ 0  0]\n",
      "  [ 1  1]]\n",
      "\n",
      " [[ 6 15]\n",
      "  [22  2]\n",
      "  [ 8 21]]\n",
      "\n",
      " [[-1 -1]\n",
      "  [-1 -1]\n",
      "  [-1 -1]]]\n"
     ]
    }
   ],
   "source": [
    "array_tridimensional2 [-1,:,:] = -1\n",
    "print (f\"El array tridimensional es: \\n {array_tridimensional2}\")"
   ]
  },
  {
   "cell_type": "markdown",
   "id": "c60bc3bb",
   "metadata": {},
   "source": [
    "\n",
    "#### Ejercicio 9 - Genera un array tridimensional de dimensiones (2, 4, 3) con valores enteros del -10 al 13.\n",
    "\n",
    "- Selecciona todos los elementos mayores a `5`.\n",
    "\n",
    "- Reemplaza todos los elementos negativos por `0`.\n"
   ]
  },
  {
   "cell_type": "code",
   "execution_count": 51,
   "id": "28bf9232",
   "metadata": {},
   "outputs": [
    {
     "name": "stdout",
     "output_type": "stream",
     "text": [
      "El array tridimensional es: \n",
      " [[[-9 -5  2]\n",
      "  [-1  2 12]\n",
      "  [ 5  1 -1]\n",
      "  [12  2 13]]\n",
      "\n",
      " [[ 2 -5  0]\n",
      "  [-4  8 -2]\n",
      "  [ 6  3  0]\n",
      "  [-4 12  9]]]\n"
     ]
    }
   ],
   "source": [
    "array_tridimensional3 = np.random.randint (-10,14, (2,4,3))\n",
    "print (f\"El array tridimensional es: \\n {array_tridimensional3}\")"
   ]
  },
  {
   "cell_type": "code",
   "execution_count": 53,
   "id": "663f36da",
   "metadata": {},
   "outputs": [
    {
     "name": "stdout",
     "output_type": "stream",
     "text": [
      "El array tridimensional es: \n",
      " [12 12 13  8  6 12  9]\n"
     ]
    }
   ],
   "source": [
    "mascara2 = array_tridimensional3 > 5\n",
    "array_mayor5 = array_tridimensional3 [mascara2]\n",
    "print (f\"El array tridimensional es: \\n {array_mayor5}\")"
   ]
  },
  {
   "cell_type": "code",
   "execution_count": 60,
   "id": "959bd75d",
   "metadata": {},
   "outputs": [
    {
     "name": "stdout",
     "output_type": "stream",
     "text": [
      "[[[ True  True False]\n",
      "  [ True False False]\n",
      "  [False False  True]\n",
      "  [False False False]]\n",
      "\n",
      " [[False  True False]\n",
      "  [ True False  True]\n",
      "  [False False False]\n",
      "  [ True False False]]]\n",
      "El array tridimensional es: \n",
      " [[[ 0  0  2]\n",
      "  [ 0  2 12]\n",
      "  [ 5  1  0]\n",
      "  [12  2 13]]\n",
      "\n",
      " [[ 2  0  0]\n",
      "  [ 0  8  0]\n",
      "  [ 6  3  0]\n",
      "  [ 0 12  9]]]\n"
     ]
    }
   ],
   "source": [
    "mascara3 =array_tridimensional3 <0\n",
    "print(f\"{mascara3}\")\n",
    "array_tridimensional3 [mascara3] = 0\n",
    "\n",
    "print (f\"El array tridimensional es: \\n {array_tridimensional3}\")\n",
    "        \n"
   ]
  },
  {
   "cell_type": "markdown",
   "id": "ab38a3be",
   "metadata": {},
   "source": [
    "#### Ejercicio 10 - Genera un array tridimensional de dimensiones (3, 3, 3) con valores enteros del 1 al 27.\n",
    "\n",
    "- Selecciona el subarray del segundo array que contenga solo las dos primeras columnas.\n",
    "\n",
    "- Selecciona todos los elementos del tercer array que sean mayores que `20`.\n"
   ]
  },
  {
   "cell_type": "code",
   "execution_count": 71,
   "id": "78c979cf",
   "metadata": {},
   "outputs": [
    {
     "name": "stdout",
     "output_type": "stream",
     "text": [
      "[[[ 5  4  2]\n",
      "  [17 10 15]\n",
      "  [ 3 13 12]]\n",
      "\n",
      " [[17 20 13]\n",
      "  [ 6 20 14]\n",
      "  [21 16 21]]\n",
      "\n",
      " [[15 24 13]\n",
      "  [27  1  6]\n",
      "  [ 8  8 18]]]\n"
     ]
    }
   ],
   "source": [
    "array_tridimensional4 = np.random.randint (1,28, (3,3,3))\n",
    "print (f\"{array_tridimensional4}\")"
   ]
  },
  {
   "cell_type": "code",
   "execution_count": 72,
   "id": "ef44a582",
   "metadata": {},
   "outputs": [
    {
     "data": {
      "text/plain": [
       "array([[17, 20],\n",
       "       [ 6, 20],\n",
       "       [21, 16]], dtype=int32)"
      ]
     },
     "execution_count": 72,
     "metadata": {},
     "output_type": "execute_result"
    }
   ],
   "source": [
    "array_tridimensional4 [1,:,0:2]"
   ]
  },
  {
   "cell_type": "code",
   "execution_count": 79,
   "id": "a8092e05",
   "metadata": {},
   "outputs": [
    {
     "name": "stdout",
     "output_type": "stream",
     "text": [
      "[[[24  3 15]\n",
      "  [21 20 19]\n",
      "  [25 22 20]]\n",
      "\n",
      " [[ 5  4 27]\n",
      "  [15 17 11]\n",
      "  [17 15 13]]\n",
      "\n",
      " [[19  5 21]\n",
      "  [10 12 16]\n",
      "  [16 26 26]]]\n",
      "\n",
      " los valores del tercer array mayores de 20 son: [21 26 26]\n"
     ]
    }
   ],
   "source": [
    "array_tridimensional4 = np.random.randint (1,28, (3,3,3))\n",
    "print (f\"{array_tridimensional4}\")\n",
    "array_tridimensional4_tercersub = array_tridimensional4 [2,:,:]\n",
    "mascara4 = array_tridimensional4_tercersub > 20\n",
    "array_mayor20 = array_tridimensional4_tercersub [mascara4]\n",
    "print (f\"\\n los valores del tercer array mayores de 20 son: {array_mayor20}\")\n"
   ]
  },
  {
   "cell_type": "markdown",
   "id": "f1a00156",
   "metadata": {},
   "source": [
    "#### Ejercicio 11 - Crea un array de 10 números aleatorios y reemplaza los valores máximos y mínimos por 0."
   ]
  },
  {
   "cell_type": "code",
   "execution_count": 103,
   "id": "990fa526",
   "metadata": {},
   "outputs": [
    {
     "name": "stdout",
     "output_type": "stream",
     "text": [
      "[0.31068649 0.50077002 0.93092504 0.67893246 0.67967423 0.85640123\n",
      " 0.96828576 0.9496808  0.34965938 0.80823823]\n",
      "el valor maximo esta en el indice 6\n",
      "el valor minimo esta en el indice0\n",
      "[0.         0.50077002 0.93092504 0.67893246 0.67967423 0.85640123\n",
      " 0.         0.9496808  0.34965938 0.80823823]\n"
     ]
    }
   ],
   "source": [
    "\n",
    "array_aleatorio2 = np.random.rand (10)\n",
    "print (f\"{array_aleatorio2}\")\n",
    "\n",
    "valor_maximo = np.max (array_aleatorio2) \n",
    "valor_minimo = np.min (array_aleatorio2)\n",
    "\n",
    "indice_maximo = np.where(array_aleatorio2 == valor_maximo)[0][0]\n",
    "print (f\"el valor maximo esta en el indice {indice_maximo}\")\n",
    "indice_minimo = np.where(array_aleatorio2 == valor_minimo)[0][0]\n",
    "print (f\"el valor minimo esta en el indice{indice_minimo}\")\n",
    "\n",
    "array_aleatorio2 [indice_maximo] = 0\n",
    "array_aleatorio2 [indice_minimo] = 0\n",
    "print(f\"{array_aleatorio2}\")\n"
   ]
  },
  {
   "cell_type": "markdown",
   "id": "781fafd0",
   "metadata": {},
   "source": [
    "#### Ejercicio 12 - Genera un array de 15 números aleatorios enteros entre 1 y 100 y reordénalo en orden ascendente."
   ]
  },
  {
   "cell_type": "code",
   "execution_count": 109,
   "id": "caa4fd47",
   "metadata": {},
   "outputs": [
    {
     "name": "stdout",
     "output_type": "stream",
     "text": [
      "[ 2 39 29 78  4 16 95 43 64 23 46 56 45 91 40]\n",
      "[ 2  4 16 23 29 39 40 43 45 46 56 64 78 91 95]\n"
     ]
    }
   ],
   "source": [
    "array_aleatorio3 = np.random.randint (1,101,15)\n",
    "print (f\"{array_aleatorio3}\")\n",
    "\n",
    "array_aleatorio3_ordenado = np.sort(array_aleatorio3)\n",
    "print (f\"{array_aleatorio3_ordenado}\")"
   ]
  },
  {
   "cell_type": "markdown",
   "id": "45f10c3e",
   "metadata": {},
   "source": [
    "#### Ejercicio 11 - Calcula la suma de los elementos a lo largo de las filas y columnas en una matriz 4x4."
   ]
  },
  {
   "cell_type": "code",
   "execution_count": 119,
   "id": "90220788",
   "metadata": {},
   "outputs": [
    {
     "name": "stdout",
     "output_type": "stream",
     "text": [
      "[[[0.30050512 0.36984443 0.30885293 0.1014852 ]\n",
      "  [0.928012   0.57633035 0.06713821 0.55906497]\n",
      "  [0.44781791 0.0978776  0.16395897 0.97874058]\n",
      "  [0.87241923 0.30938789 0.83425781 0.8786769 ]]]\n",
      "\n",
      " la suma de todos los elemento de las filas es \n",
      " [[2.54875426 1.35344028 1.37420792 2.51796765]]\n",
      "\n",
      " la suma de todos los elemento de las columnas es \n",
      " [[0.30050512 0.36984443 0.30885293 0.1014852 ]\n",
      " [0.928012   0.57633035 0.06713821 0.55906497]\n",
      " [0.44781791 0.0978776  0.16395897 0.97874058]\n",
      " [0.87241923 0.30938789 0.83425781 0.8786769 ]]\n",
      "\n"
     ]
    }
   ],
   "source": [
    "array_aleatorio4 = np.random.rand (1,4,4)\n",
    "print (f\"{array_aleatorio4}\\n\")\n",
    "sumafilas_array4 = np.sum (array_aleatorio4, axis = 1)\n",
    "print (f\" la suma de todos los elemento de las filas es \\n {sumafilas_array4}\\n\")\n",
    "sumacolumna_array4 = np.sum (array_aleatorio4, axis = 0)\n",
    "print (f\" la suma de todos los elemento de las columnas es \\n {sumacolumna_array4}\\n\")"
   ]
  },
  {
   "cell_type": "markdown",
   "id": "69b9751a",
   "metadata": {},
   "source": [
    "#### Ejercicio 12 - Crea una matriz de 5x5 con valores en el borde igual a 1 y en el interior igual a 0."
   ]
  },
  {
   "cell_type": "code",
   "execution_count": null,
   "id": "eca81323",
   "metadata": {},
   "outputs": [],
   "source": []
  },
  {
   "cell_type": "markdown",
   "id": "1ea8068d",
   "metadata": {},
   "source": [
    "#### Ejercicio 13 - Calcula la media y la desviación estándar de un array de 10 números aleatorios."
   ]
  },
  {
   "cell_type": "code",
   "execution_count": null,
   "id": "05dd579d",
   "metadata": {},
   "outputs": [],
   "source": []
  },
  {
   "cell_type": "markdown",
   "id": "6add6669",
   "metadata": {},
   "source": [
    "#### Ejercicio 14 - Genera un array tridimensional de dimensiones (2, 3, 4) con valores enteros del 1 al 24.\n",
    "\n",
    "- Transpón el array para intercambiar los ejes de la forma (2, 3, 4) a (4, 3, 2).\n",
    "\n",
    "- Observa cómo cambian las posiciones de los elementos y sus índices después de la transposición. Explica en una celda de markdown que es lo que ha pasado. \n"
   ]
  },
  {
   "cell_type": "code",
   "execution_count": null,
   "id": "ae98aca5",
   "metadata": {},
   "outputs": [],
   "source": []
  },
  {
   "cell_type": "markdown",
   "id": "1e32b5e6",
   "metadata": {},
   "source": [
    "#### Ejercicio 15 - Genera un array tridimensional de dimensiones (3, 4, 2) con valores enteros del 1 al 24.\n",
    "\n",
    "- Transpón el array para intercambiar el primer y segundo eje, de manera que la nueva forma del array sea (4, 3, 2).\n"
   ]
  },
  {
   "cell_type": "code",
   "execution_count": null,
   "id": "0146fdd6",
   "metadata": {},
   "outputs": [],
   "source": []
  },
  {
   "cell_type": "markdown",
   "id": "fcf92586",
   "metadata": {},
   "source": [
    "#### Ejercicio 16 - Genera un array tridimensional de dimensiones (3, 2, 4) con valores enteros del 1 al 24.\n",
    "\n",
    "- Realiza una rotación completa de los ejes para convertir la forma original (3, 2, 4) en (4, 3, 2).\n"
   ]
  },
  {
   "cell_type": "code",
   "execution_count": null,
   "id": "dd2c7f27",
   "metadata": {},
   "outputs": [],
   "source": []
  },
  {
   "cell_type": "markdown",
   "id": "1795e11f",
   "metadata": {},
   "source": [
    "#### Ejercicio 17 - Manipulación de Arrays en 3D\n",
    "\n",
    "- Crea un array tridimensional con dimensiones (3, 4, 5) cuyos elementos sean números enteros aleatorios entre -10 y 10.\n",
    "\n",
    "- Crea un array vacío con la misma forma y dimensiones que el array creado anteriormente. Luego, reemplaza los valores de la matriz vacía basada en los valores del primer array bajo las siguientes condiciones:\n",
    "\n",
    "   - Si el valor es igual a la mediana, se reemplaza por `\"M\"`.\n",
    "\n",
    "   - Si el valor es mayor que la mediana, se reemplaza por `\"X\"`.\n",
    "\n",
    "   - Si el valor es menor que la mediana, se reemplaza por `\"Y\"`.\n",
    "\n",
    "   - Si el valor es igual al máximo, se reemplaza por `\"MAX\"`.\n",
    "\n",
    "   - Si el valor es igual al mínimo, se reemplaza por `\"MIN\"`.\n"
   ]
  },
  {
   "cell_type": "code",
   "execution_count": null,
   "id": "d309b397",
   "metadata": {},
   "outputs": [],
   "source": []
  },
  {
   "cell_type": "markdown",
   "id": "83794704",
   "metadata": {},
   "source": [
    "#### Ejercicio 18 - Verificación de Filas y Columnas Iguales\n",
    "\n",
    "Crea un array bidimensional de dimensiones 4x4, escribe un código para determinar si alguna fila es exactamente igual a alguna columna.\n",
    "\n",
    "**Reglas:**\n",
    "\n",
    "- No puedes usar funciones predefinidas de NumPy para comparar filas y columnas (`np.array_equal`, etc.).\n",
    "\n",
    "- Debes resolverlo con estructuras básicas de Python (bucles, condicionales, etc.).\n",
    "\n",
    "- Debes revisar si hay al menos una fila que coincida exactamente con alguna columna.\n",
    "\n",
    "**Pistas**:\n",
    "\n",
    "- Puedes recorrer cada fila y cada columna de la matriz usando bucles.\n",
    "\n",
    "- Para comparar una fila con una columna, puedes hacerlo elemento por elemento."
   ]
  },
  {
   "cell_type": "code",
   "execution_count": null,
   "id": "afd51c60",
   "metadata": {},
   "outputs": [],
   "source": []
  }
 ],
 "metadata": {
  "kernelspec": {
   "display_name": "Python 3",
   "language": "python",
   "name": "python3"
  },
  "language_info": {
   "codemirror_mode": {
    "name": "ipython",
    "version": 3
   },
   "file_extension": ".py",
   "mimetype": "text/x-python",
   "name": "python",
   "nbconvert_exporter": "python",
   "pygments_lexer": "ipython3",
   "version": "3.12.6"
  }
 },
 "nbformat": 4,
 "nbformat_minor": 5
}
