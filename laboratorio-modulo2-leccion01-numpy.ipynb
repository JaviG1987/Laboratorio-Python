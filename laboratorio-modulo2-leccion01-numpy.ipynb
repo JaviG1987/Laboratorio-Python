{
 "cells": [
  {
   "cell_type": "markdown",
   "id": "6db588db",
   "metadata": {},
   "source": [
    "<div style=\"text-align: center;\">\n",
    "  <img src=\"https://github.com/Hack-io-Data/Imagenes/blob/main/01-LogosHackio/logo_naranja@4x.png?raw=true\" alt=\"esquema\" />\n",
    "</div>"
   ]
  },
  {
   "cell_type": "code",
   "execution_count": 1,
   "id": "11d3f85f",
   "metadata": {},
   "outputs": [],
   "source": [
    "import os"
   ]
  },
  {
   "cell_type": "code",
   "execution_count": 2,
   "id": "64ff9293",
   "metadata": {},
   "outputs": [
    {
     "data": {
      "text/plain": [
       "['laboratorio-modulo2-leccion01-numpy.ipynb']"
      ]
     },
     "execution_count": 2,
     "metadata": {},
     "output_type": "execute_result"
    }
   ],
   "source": [
    "datos = os.listdir()\n",
    "datos"
   ]
  },
  {
   "cell_type": "code",
   "execution_count": 3,
   "id": "74e36252",
   "metadata": {},
   "outputs": [
    {
     "name": "stderr",
     "output_type": "stream",
     "text": [
      "<>:1: SyntaxWarning: invalid escape sequence '\\d'\n",
      "<>:1: SyntaxWarning: invalid escape sequence '\\d'\n",
      "C:\\Users\\Javier\\AppData\\Local\\Temp\\ipykernel_14820\\1996085454.py:1: SyntaxWarning: invalid escape sequence '\\d'\n",
      "  diccioanrio_df = {diccioanrio_df[re.findall(\"\\d{4}\", i)[0]] : pd.read_csv(f\"..dato/{i}\") for i in datos}\n",
      "C:\\Users\\Javier\\AppData\\Local\\Temp\\ipykernel_14820\\1996085454.py:1: SyntaxWarning: invalid escape sequence '\\d'\n",
      "  diccioanrio_df = {diccioanrio_df[re.findall(\"\\d{4}\", i)[0]] : pd.read_csv(f\"..dato/{i}\") for i in datos}\n"
     ]
    },
    {
     "ename": "NameError",
     "evalue": "name 'diccioanrio_df' is not defined",
     "output_type": "error",
     "traceback": [
      "\u001b[1;31m---------------------------------------------------------------------------\u001b[0m",
      "\u001b[1;31mNameError\u001b[0m                                 Traceback (most recent call last)",
      "Cell \u001b[1;32mIn[3], line 1\u001b[0m\n\u001b[1;32m----> 1\u001b[0m diccioanrio_df \u001b[38;5;241m=\u001b[39m {\u001b[43mdiccioanrio_df\u001b[49m[re\u001b[38;5;241m.\u001b[39mfindall(\u001b[38;5;124m\"\u001b[39m\u001b[38;5;124m\\\u001b[39m\u001b[38;5;124md\u001b[39m\u001b[38;5;132;01m{4}\u001b[39;00m\u001b[38;5;124m\"\u001b[39m, i)[\u001b[38;5;241m0\u001b[39m]] : pd\u001b[38;5;241m.\u001b[39mread_csv(\u001b[38;5;124mf\u001b[39m\u001b[38;5;124m\"\u001b[39m\u001b[38;5;124m..dato/\u001b[39m\u001b[38;5;132;01m{\u001b[39;00mi\u001b[38;5;132;01m}\u001b[39;00m\u001b[38;5;124m\"\u001b[39m) \u001b[38;5;28;01mfor\u001b[39;00m i \u001b[38;5;129;01min\u001b[39;00m datos}\n\u001b[0;32m      3\u001b[0m diccioanrio_df \u001b[38;5;241m=\u001b[39m {}\n\u001b[0;32m      4\u001b[0m \u001b[38;5;28;01mfor\u001b[39;00m i \u001b[38;5;129;01min\u001b[39;00m datos:\n",
      "\u001b[1;31mNameError\u001b[0m: name 'diccioanrio_df' is not defined"
     ]
    }
   ],
   "source": [
    "diccioanrio_df = {diccioanrio_df[re.findall(\"\\d{4}\", i)[0]] : pd.read_csv(f\"..dato/{i}\") for i in datos}\n",
    "\n",
    "diccioanrio_df = {}\n",
    "for i in datos:\n",
    "    df = pd.read_csv(i)\n",
    "    diccioanrio_df[i.spl]\n"
   ]
  },
  {
   "cell_type": "markdown",
   "id": "11308d6c",
   "metadata": {},
   "source": [
    "for i in datos\n",
    "# Laboratorio de NumPy"
   ]
  },
  {
   "cell_type": "markdown",
   "id": "a19d4596",
   "metadata": {},
   "source": [
    "#### Ejercicio 1 - Crea un array de 1D con los números del 0 al 9."
   ]
  },
  {
   "cell_type": "code",
   "execution_count": null,
   "id": "9d4e1d42",
   "metadata": {},
   "outputs": [
    {
     "data": {
      "text/plain": [
       "array([0, 1, 2, 3, 4, 5, 6, 7, 8, 9])"
      ]
     },
     "execution_count": 2,
     "metadata": {},
     "output_type": "execute_result"
    }
   ],
   "source": [
    "\n",
    "import numpy as np\n",
    "\n",
    "lista = [0,1,2,3,4,5,6,7,8,9]\n",
    "array_uni = np.array (lista)\n",
    "array_uni\n"
   ]
  },
  {
   "cell_type": "markdown",
   "id": "f4a41f16",
   "metadata": {},
   "source": [
    "#### Ejercicio 2 - Convierte un array 1D en un array 2D con 2 filas y 5 columnas."
   ]
  },
  {
   "cell_type": "code",
   "execution_count": null,
   "id": "3d7cef3c",
   "metadata": {},
   "outputs": [
    {
     "data": {
      "text/plain": [
       "array([[0, 1, 2, 3, 4],\n",
       "       [5, 6, 7, 8, 9]])"
      ]
     },
     "execution_count": 10,
     "metadata": {},
     "output_type": "execute_result"
    }
   ],
   "source": [
    "array_bi = np.reshape (array_uni, [2,5])\n",
    "array_bi"
   ]
  },
  {
   "cell_type": "markdown",
   "id": "86bb8999",
   "metadata": {},
   "source": [
    "#### Ejercicio 3 - Encuentra los índices de los elementos con valor distinto de 0 en el siguiente array: [0, 2, 0, 3, 0, 4, 0]."
   ]
  },
  {
   "cell_type": "code",
   "execution_count": null,
   "id": "d1fcfca4",
   "metadata": {},
   "outputs": [
    {
     "data": {
      "text/plain": [
       "array([1, 3, 5])"
      ]
     },
     "execution_count": 11,
     "metadata": {},
     "output_type": "execute_result"
    }
   ],
   "source": [
    "array1 = np.array ([0,2,0,3,0,4,0])\n",
    "mascara =  array1 != 0\n",
    "mascara\n",
    "distinto0 = array1 [mascara]\n",
    "distinto0\n",
    "indices_distinto0 = np.where (mascara)[0]\n",
    "indices_distinto0\n"
   ]
  },
  {
   "cell_type": "markdown",
   "id": "1c548419",
   "metadata": {},
   "source": [
    "#### Ejercicio 4 - Crea un array 3x3 con valores aleatorios entre 0 y 1."
   ]
  },
  {
   "cell_type": "code",
   "execution_count": null,
   "id": "e1d4f19f",
   "metadata": {},
   "outputs": [
    {
     "data": {
      "text/plain": [
       "array([[0.50944292, 0.84418578, 0.72708099],\n",
       "       [0.63389586, 0.35992269, 0.34619479],\n",
       "       [0.02042388, 0.92449048, 0.87096468]])"
      ]
     },
     "execution_count": 12,
     "metadata": {},
     "output_type": "execute_result"
    }
   ],
   "source": [
    "array_aleatorio = np.random.rand(3,3)\n",
    "array_aleatorio"
   ]
  },
  {
   "cell_type": "markdown",
   "id": "aee82811",
   "metadata": {},
   "source": [
    "#### Ejercicio 5 - Crea un array de 10 números aleatorios y encuentra el valor máximo y mínimo."
   ]
  },
  {
   "cell_type": "code",
   "execution_count": null,
   "id": "81fea76e",
   "metadata": {},
   "outputs": [
    {
     "name": "stdout",
     "output_type": "stream",
     "text": [
      "[6 7 8 0 1 4 5 1 1 8]\n",
      "el valor maximo es 8\n",
      "el valor minimo es 0\n"
     ]
    }
   ],
   "source": [
    "array_10num = np.random.randint (0,10,10)\n",
    "print (f\"{array_10num}\")\n",
    "max_valor = np.max (array_10num)\n",
    "print (f\"el valor maximo es {max_valor}\")\n",
    "min_valor = np.min (array_10num)\n",
    "print (f\"el valor minimo es {min_valor}\")"
   ]
  },
  {
   "cell_type": "markdown",
   "id": "6559375b",
   "metadata": {},
   "source": [
    "#### Ejercicio 6 - Crea un array de una dimensión e inviértelo. "
   ]
  },
  {
   "cell_type": "code",
   "execution_count": null,
   "id": "31385db0",
   "metadata": {},
   "outputs": [
    {
     "name": "stdout",
     "output_type": "stream",
     "text": [
      "el array original es: [0.93563464 0.21754954 0.44157565 0.98979298 0.58773193]\n",
      "el array invertidol es: [0.58773193 0.98979298 0.44157565 0.21754954 0.93563464]\n"
     ]
    }
   ],
   "source": [
    "array_original = np.random.rand (5)\n",
    "print(f\"el array original es: {array_original}\")\n",
    "array_invertido = array_original [::-1]\n",
    "print(f\"el array invertidol es: {array_invertido}\")\n"
   ]
  },
  {
   "cell_type": "markdown",
   "id": "4457f046",
   "metadata": {},
   "source": [
    "\n",
    "#### Ejercicio 6 - Genera un array tridimensional de dimensiones (2, 3, 4) con valores enteros del 1 al 24.\n",
    "\n",
    "- Selecciona el primer `15` del array.\n",
    "\n",
    "- Selecciona todos los elementos del primer array. \n",
    "\n",
    "- Selecciona la última fila del último array\n"
   ]
  },
  {
   "cell_type": "code",
   "execution_count": null,
   "id": "3cab04c9",
   "metadata": {},
   "outputs": [
    {
     "name": "stdout",
     "output_type": "stream",
     "text": [
      "El array tridimensional es: \n",
      " [[[ 0 11 21  4]\n",
      "  [ 0  4 24 23]\n",
      "  [23 18 20 19]]\n",
      "\n",
      " [[14  3 24 21]\n",
      "  [ 7  5  2  6]\n",
      "  [ 0 11 18 24]]]\n",
      " el primer numero 15 está en la posicion (array([], dtype=int64), array([], dtype=int64), array([], dtype=int64))\n"
     ]
    }
   ],
   "source": [
    "array_tri = np.random.randint (0,25,(2,3,4))\n",
    "print (f\"El array tridimensional es: \\n {array_tri}\")\n",
    "primer15 = np.where (array_tri == 15)\n",
    "\n",
    "print (f\" el primer numero 15 está en la posicion {primer15}\")\n",
    "\n",
    "\n"
   ]
  },
  {
   "cell_type": "code",
   "execution_count": null,
   "id": "53b840dc",
   "metadata": {},
   "outputs": [
    {
     "data": {
      "text/plain": [
       "array([[ 0, 11, 21,  4],\n",
       "       [ 0,  4, 24, 23],\n",
       "       [23, 18, 20, 19]], dtype=int32)"
      ]
     },
     "execution_count": 16,
     "metadata": {},
     "output_type": "execute_result"
    }
   ],
   "source": [
    "array_tri [0]"
   ]
  },
  {
   "cell_type": "code",
   "execution_count": null,
   "id": "0d6f791d",
   "metadata": {},
   "outputs": [
    {
     "data": {
      "text/plain": [
       "array([ 0, 11, 18, 24], dtype=int32)"
      ]
     },
     "execution_count": 17,
     "metadata": {},
     "output_type": "execute_result"
    }
   ],
   "source": [
    "array_tri [1,2]\n"
   ]
  },
  {
   "cell_type": "markdown",
   "id": "681b7e4e",
   "metadata": {},
   "source": [
    "\n",
    "#### Ejercicio 7 - Genera un array tridimensional de dimensiones (3, 2, 5) con valores enteros del 1 al 30.\n",
    "\n",
    "- Selecciona el subarray que contiene los dos primeros elementos de cada fila del primer array.\n",
    "\n",
    "- Selecciona el subarray que contiene todas las filas de los dos últimos arrays.\n"
   ]
  },
  {
   "cell_type": "code",
   "execution_count": null,
   "id": "b008a9aa",
   "metadata": {},
   "outputs": [
    {
     "name": "stdout",
     "output_type": "stream",
     "text": [
      "El array tridimensional es: \n",
      " [[[27 21  9  9 21]\n",
      "  [ 4 10  6 12 11]]\n",
      "\n",
      " [[11 15  6 15  5]\n",
      "  [14 11  3 21  2]]\n",
      "\n",
      " [[20  5 15 26 11]\n",
      "  [ 6 10 13  1 15]]]\n"
     ]
    }
   ],
   "source": [
    "array_tridimensional = np.random.randint (1,31, (3,2,5))\n",
    "print (f\"El array tridimensional es: \\n {array_tridimensional}\")\n"
   ]
  },
  {
   "cell_type": "code",
   "execution_count": null,
   "id": "d2227923",
   "metadata": {},
   "outputs": [
    {
     "data": {
      "text/plain": [
       "array([[27, 21],\n",
       "       [ 4, 10]], dtype=int32)"
      ]
     },
     "execution_count": 19,
     "metadata": {},
     "output_type": "execute_result"
    }
   ],
   "source": [
    "array_tridimensional [0,:,:2]"
   ]
  },
  {
   "cell_type": "code",
   "execution_count": null,
   "id": "dc97cdc4",
   "metadata": {},
   "outputs": [
    {
     "data": {
      "text/plain": [
       "array([[[11, 15,  6, 15,  5],\n",
       "        [14, 11,  3, 21,  2]],\n",
       "\n",
       "       [[20,  5, 15, 26, 11],\n",
       "        [ 6, 10, 13,  1, 15]]], dtype=int32)"
      ]
     },
     "execution_count": 20,
     "metadata": {},
     "output_type": "execute_result"
    }
   ],
   "source": [
    "array_tridimensional [1:,:,:]"
   ]
  },
  {
   "cell_type": "markdown",
   "id": "4fabd9d0",
   "metadata": {},
   "source": [
    "#### Ejercicio 8 - Genera un array tridimensional de dimensiones (4, 3, 2) con valores enteros del 1 al 24.\n",
    "\n",
    "- Cambia todos los elementos de la segunda fila del segundo array por `0`.\n",
    "\n",
    "- Cambia todos los valores del último array a `-1`.\n"
   ]
  },
  {
   "cell_type": "code",
   "execution_count": null,
   "id": "0ef45b69",
   "metadata": {},
   "outputs": [
    {
     "name": "stdout",
     "output_type": "stream",
     "text": [
      "El array tridimensional es: \n",
      " [[[ 6 11]\n",
      "  [21 14]\n",
      "  [11  1]]\n",
      "\n",
      " [[ 3 12]\n",
      "  [20 21]\n",
      "  [21 22]]\n",
      "\n",
      " [[ 9  1]\n",
      "  [12 24]\n",
      "  [ 3  4]]\n",
      "\n",
      " [[ 9  1]\n",
      "  [ 4 12]\n",
      "  [ 5 20]]]\n"
     ]
    }
   ],
   "source": [
    "array_tridimensional2 = np.random.randint (1,25,(4,3,2))\n",
    "print (f\"El array tridimensional es: \\n {array_tridimensional2}\")"
   ]
  },
  {
   "cell_type": "code",
   "execution_count": null,
   "id": "7ee85a24",
   "metadata": {},
   "outputs": [
    {
     "name": "stdout",
     "output_type": "stream",
     "text": [
      "El array tridimensional es: \n",
      " [[[ 6 11]\n",
      "  [21 14]\n",
      "  [11  1]]\n",
      "\n",
      " [[ 3 12]\n",
      "  [ 0  0]\n",
      "  [21 22]]\n",
      "\n",
      " [[ 9  1]\n",
      "  [12 24]\n",
      "  [ 3  4]]\n",
      "\n",
      " [[ 9  1]\n",
      "  [ 4 12]\n",
      "  [ 5 20]]]\n"
     ]
    }
   ],
   "source": [
    "array_tridimensional2 [1,1,:] = 0\n",
    "print (f\"El array tridimensional es: \\n {array_tridimensional2}\")"
   ]
  },
  {
   "cell_type": "code",
   "execution_count": null,
   "id": "7d256c81",
   "metadata": {},
   "outputs": [
    {
     "name": "stdout",
     "output_type": "stream",
     "text": [
      "El array tridimensional es: \n",
      " [[[ 6 11]\n",
      "  [21 14]\n",
      "  [11  1]]\n",
      "\n",
      " [[ 3 12]\n",
      "  [ 0  0]\n",
      "  [21 22]]\n",
      "\n",
      " [[ 9  1]\n",
      "  [12 24]\n",
      "  [ 3  4]]\n",
      "\n",
      " [[-1 -1]\n",
      "  [-1 -1]\n",
      "  [-1 -1]]]\n"
     ]
    }
   ],
   "source": [
    "array_tridimensional2 [-1,:,:] = -1\n",
    "print (f\"El array tridimensional es: \\n {array_tridimensional2}\")"
   ]
  },
  {
   "cell_type": "markdown",
   "id": "c60bc3bb",
   "metadata": {},
   "source": [
    "\n",
    "#### Ejercicio 9 - Genera un array tridimensional de dimensiones (2, 4, 3) con valores enteros del -10 al 13.\n",
    "\n",
    "- Selecciona todos los elementos mayores a `5`.\n",
    "\n",
    "- Reemplaza todos los elementos negativos por `0`.\n"
   ]
  },
  {
   "cell_type": "code",
   "execution_count": null,
   "id": "28bf9232",
   "metadata": {},
   "outputs": [
    {
     "name": "stdout",
     "output_type": "stream",
     "text": [
      "El array tridimensional es: \n",
      " [[[  8   2   1]\n",
      "  [ -5   8   2]\n",
      "  [ -9  -3  11]\n",
      "  [ -7  12   0]]\n",
      "\n",
      " [[ -5   6  -2]\n",
      "  [ -9 -10  13]\n",
      "  [  6  -9  -8]\n",
      "  [  4   9   9]]]\n"
     ]
    }
   ],
   "source": [
    "array_tridimensional3 = np.random.randint (-10,14, (2,4,3))\n",
    "print (f\"El array tridimensional es: \\n {array_tridimensional3}\")"
   ]
  },
  {
   "cell_type": "code",
   "execution_count": null,
   "id": "663f36da",
   "metadata": {},
   "outputs": [
    {
     "name": "stdout",
     "output_type": "stream",
     "text": [
      "El array tridimensional es: \n",
      " [ 8  8 11 12  6 13  6  9  9]\n"
     ]
    }
   ],
   "source": [
    "mascara2 = array_tridimensional3 > 5\n",
    "array_mayor5 = array_tridimensional3 [mascara2]\n",
    "print (f\"El array tridimensional es: \\n {array_mayor5}\")"
   ]
  },
  {
   "cell_type": "code",
   "execution_count": null,
   "id": "959bd75d",
   "metadata": {},
   "outputs": [
    {
     "name": "stdout",
     "output_type": "stream",
     "text": [
      "[[[False False False]\n",
      "  [ True False False]\n",
      "  [ True  True False]\n",
      "  [ True False False]]\n",
      "\n",
      " [[ True False  True]\n",
      "  [ True  True False]\n",
      "  [False  True  True]\n",
      "  [False False False]]]\n",
      "El array tridimensional es: \n",
      " [[[ 8  2  1]\n",
      "  [ 0  8  2]\n",
      "  [ 0  0 11]\n",
      "  [ 0 12  0]]\n",
      "\n",
      " [[ 0  6  0]\n",
      "  [ 0  0 13]\n",
      "  [ 6  0  0]\n",
      "  [ 4  9  9]]]\n"
     ]
    }
   ],
   "source": [
    "mascara3 =array_tridimensional3 <0\n",
    "print(f\"{mascara3}\")\n",
    "array_tridimensional3 [mascara3] = 0\n",
    "\n",
    "print (f\"El array tridimensional es: \\n {array_tridimensional3}\")\n",
    "        \n"
   ]
  },
  {
   "cell_type": "markdown",
   "id": "ab38a3be",
   "metadata": {},
   "source": [
    "#### Ejercicio 10 - Genera un array tridimensional de dimensiones (3, 3, 3) con valores enteros del 1 al 27.\n",
    "\n",
    "- Selecciona el subarray del segundo array que contenga solo las dos primeras columnas.\n",
    "\n",
    "- Selecciona todos los elementos del tercer array que sean mayores que `20`.\n"
   ]
  },
  {
   "cell_type": "code",
   "execution_count": null,
   "id": "78c979cf",
   "metadata": {},
   "outputs": [
    {
     "name": "stdout",
     "output_type": "stream",
     "text": [
      "[[[16 25 12]\n",
      "  [15 23 13]\n",
      "  [22 10 27]]\n",
      "\n",
      " [[25 11 18]\n",
      "  [13  4 11]\n",
      "  [ 7 27  8]]\n",
      "\n",
      " [[20 16 12]\n",
      "  [15 20 26]\n",
      "  [23 23 15]]]\n"
     ]
    }
   ],
   "source": [
    "array_tridimensional4 = np.random.randint (1,28, (3,3,3))\n",
    "print (f\"{array_tridimensional4}\")"
   ]
  },
  {
   "cell_type": "code",
   "execution_count": null,
   "id": "ef44a582",
   "metadata": {},
   "outputs": [
    {
     "data": {
      "text/plain": [
       "array([[25, 11],\n",
       "       [13,  4],\n",
       "       [ 7, 27]], dtype=int32)"
      ]
     },
     "execution_count": 28,
     "metadata": {},
     "output_type": "execute_result"
    }
   ],
   "source": [
    "array_tridimensional4 [1,:,0:2]"
   ]
  },
  {
   "cell_type": "code",
   "execution_count": null,
   "id": "a8092e05",
   "metadata": {},
   "outputs": [
    {
     "name": "stdout",
     "output_type": "stream",
     "text": [
      "[[[26  8 24]\n",
      "  [16 18  6]\n",
      "  [21  4  8]]\n",
      "\n",
      " [[17 25 10]\n",
      "  [ 8 14 23]\n",
      "  [23  3  9]]\n",
      "\n",
      " [[ 9  4  6]\n",
      "  [27 13 25]\n",
      "  [16 17  1]]]\n",
      "\n",
      " los valores del tercer array mayores de 20 son: [27 25]\n"
     ]
    }
   ],
   "source": [
    "array_tridimensional4 = np.random.randint (1,28, (3,3,3))\n",
    "print (f\"{array_tridimensional4}\")\n",
    "array_tridimensional4_tercersub = array_tridimensional4 [2,:,:]\n",
    "mascara4 = array_tridimensional4_tercersub > 20\n",
    "array_mayor20 = array_tridimensional4_tercersub [mascara4]\n",
    "print (f\"\\n los valores del tercer array mayores de 20 son: {array_mayor20}\")\n"
   ]
  },
  {
   "cell_type": "markdown",
   "id": "f1a00156",
   "metadata": {},
   "source": [
    "#### Ejercicio 11 - Crea un array de 10 números aleatorios y reemplaza los valores máximos y mínimos por 0."
   ]
  },
  {
   "cell_type": "code",
   "execution_count": null,
   "id": "990fa526",
   "metadata": {},
   "outputs": [
    {
     "name": "stdout",
     "output_type": "stream",
     "text": [
      "[0.65522381 0.71211625 0.89106113 0.28469646 0.56072142 0.69204429\n",
      " 0.82832016 0.84335083 0.8329697  0.72159887]\n",
      "el valor maximo esta en el indice 2\n",
      "el valor minimo esta en el indice3\n",
      "[0.65522381 0.71211625 0.         0.         0.56072142 0.69204429\n",
      " 0.82832016 0.84335083 0.8329697  0.72159887]\n"
     ]
    }
   ],
   "source": [
    "\n",
    "array_aleatorio2 = np.random.rand (10)\n",
    "print (f\"{array_aleatorio2}\")\n",
    "\n",
    "valor_maximo = np.max (array_aleatorio2) \n",
    "valor_minimo = np.min (array_aleatorio2)\n",
    "\n",
    "indice_maximo = np.where(array_aleatorio2 == valor_maximo)[0][0]\n",
    "print (f\"el valor maximo esta en el indice {indice_maximo}\")\n",
    "indice_minimo = np.where(array_aleatorio2 == valor_minimo)[0][0]\n",
    "print (f\"el valor minimo esta en el indice{indice_minimo}\")\n",
    "\n",
    "array_aleatorio2 [indice_maximo] = 0\n",
    "array_aleatorio2 [indice_minimo] = 0\n",
    "print(f\"{array_aleatorio2}\")\n"
   ]
  },
  {
   "cell_type": "markdown",
   "id": "781fafd0",
   "metadata": {},
   "source": [
    "#### Ejercicio 12 - Genera un array de 15 números aleatorios enteros entre 1 y 100 y reordénalo en orden ascendente."
   ]
  },
  {
   "cell_type": "code",
   "execution_count": null,
   "id": "caa4fd47",
   "metadata": {},
   "outputs": [
    {
     "name": "stdout",
     "output_type": "stream",
     "text": [
      "[ 8 95 34 91  2 78 84  7 44 51 18 70 10 90 95]\n",
      "[ 2  7  8 10 18 34 44 51 70 78 84 90 91 95 95]\n"
     ]
    }
   ],
   "source": [
    "array_aleatorio3 = np.random.randint (1,101,15)\n",
    "print (f\"{array_aleatorio3}\")\n",
    "\n",
    "array_aleatorio3_ordenado = np.sort(array_aleatorio3)\n",
    "print (f\"{array_aleatorio3_ordenado}\")"
   ]
  },
  {
   "cell_type": "markdown",
   "id": "45f10c3e",
   "metadata": {},
   "source": [
    "#### Ejercicio 11 - Calcula la suma de los elementos a lo largo de las filas y columnas en una matriz 4x4."
   ]
  },
  {
   "cell_type": "code",
   "execution_count": null,
   "id": "90220788",
   "metadata": {},
   "outputs": [
    {
     "name": "stdout",
     "output_type": "stream",
     "text": [
      "[[[0.73858188 0.78658734 0.61309142 0.34995286]\n",
      "  [0.64722838 0.22426064 0.89113205 0.41026104]\n",
      "  [0.20998641 0.93787096 0.65922632 0.35887902]\n",
      "  [0.76806992 0.02715762 0.91140118 0.37783336]]]\n",
      "\n",
      " la suma de todos los elemento de las filas es \n",
      " [[2.36386659 1.97587656 3.07485097 1.49692628]]\n",
      "\n",
      " la suma de todos los elemento de las columnas es \n",
      " [[0.73858188 0.78658734 0.61309142 0.34995286]\n",
      " [0.64722838 0.22426064 0.89113205 0.41026104]\n",
      " [0.20998641 0.93787096 0.65922632 0.35887902]\n",
      " [0.76806992 0.02715762 0.91140118 0.37783336]]\n",
      "\n"
     ]
    }
   ],
   "source": [
    "array_aleatorio4 = np.random.rand (1,4,4)\n",
    "print (f\"{array_aleatorio4}\\n\")\n",
    "sumafilas_array4 = np.sum (array_aleatorio4, axis = 1)\n",
    "print (f\" la suma de todos los elemento de las filas es \\n {sumafilas_array4}\\n\")\n",
    "sumacolumna_array4 = np.sum (array_aleatorio4, axis = 0)\n",
    "print (f\" la suma de todos los elemento de las columnas es \\n {sumacolumna_array4}\\n\")"
   ]
  },
  {
   "cell_type": "markdown",
   "id": "69b9751a",
   "metadata": {},
   "source": [
    "#### Ejercicio 12 - Crea una matriz de 5x5 con valores en el borde igual a 1 y en el interior igual a 0."
   ]
  },
  {
   "cell_type": "code",
   "execution_count": null,
   "id": "eca81323",
   "metadata": {},
   "outputs": [
    {
     "name": "stdout",
     "output_type": "stream",
     "text": [
      "[[0 0 0 0 0]\n",
      " [0 0 0 0 0]\n",
      " [0 0 0 0 0]\n",
      " [0 0 0 0 0]\n",
      " [0 0 0 0 0]]\n",
      "[[1 1 1 1 1]\n",
      " [1 0 0 0 1]\n",
      " [1 0 0 0 1]\n",
      " [1 0 0 0 1]\n",
      " [1 1 1 1 1]]\n"
     ]
    }
   ],
   "source": [
    "array_aleatorio5 = np.zeros ((5,5), dtype=int)\n",
    "print (f\"{array_aleatorio5}\")\n",
    "array_aleatorio5 [0,:] =1\n",
    "array_aleatorio5 [:,0] = 1\n",
    "array_aleatorio5 [:,-1] = 1\n",
    "array_aleatorio5 [-1,:] = 1\n",
    "\n",
    "print (f\"{array_aleatorio5}\")"
   ]
  },
  {
   "cell_type": "markdown",
   "id": "1ea8068d",
   "metadata": {},
   "source": [
    "#### Ejercicio 13 - Calcula la media y la desviación estándar de un array de 10 números aleatorios."
   ]
  },
  {
   "cell_type": "code",
   "execution_count": null,
   "id": "05dd579d",
   "metadata": {},
   "outputs": [
    {
     "name": "stdout",
     "output_type": "stream",
     "text": [
      "[0.0604452  0.96363865 0.12671059 0.12265411 0.05073265 0.11032882\n",
      " 0.03803101 0.4812346  0.63682302 0.01007587]\n"
     ]
    }
   ],
   "source": [
    "array_aleatorio6 = np.random.rand (10)\n",
    "print (f\"{array_aleatorio6}\")"
   ]
  },
  {
   "cell_type": "code",
   "execution_count": null,
   "id": "9f2f4a1e",
   "metadata": {},
   "outputs": [
    {
     "name": "stdout",
     "output_type": "stream",
     "text": [
      "0.2600674528328723\n"
     ]
    }
   ],
   "source": [
    "array_media = np.mean(array_aleatorio6)\n",
    "print (f\"{array_media}\")"
   ]
  },
  {
   "cell_type": "code",
   "execution_count": null,
   "id": "10609364",
   "metadata": {},
   "outputs": [
    {
     "name": "stdout",
     "output_type": "stream",
     "text": [
      "0.3066637110978543\n"
     ]
    }
   ],
   "source": [
    "array_desv = np.std(array_aleatorio6)\n",
    "print (f\"{array_desv}\")"
   ]
  },
  {
   "cell_type": "markdown",
   "id": "6add6669",
   "metadata": {},
   "source": [
    "#### Ejercicio 14 - Genera un array tridimensional de dimensiones (2, 3, 4) con valores enteros del 1 al 24.\n",
    "\n",
    "- Transpón el array para intercambiar los ejes de la forma (2, 3, 4) a (4, 3, 2).\n",
    "\n",
    "- Observa cómo cambian las posiciones de los elementos y sus índices después de la transposición. Explica en una celda de markdown que es lo que ha pasado. \n"
   ]
  },
  {
   "cell_type": "code",
   "execution_count": null,
   "id": "ae98aca5",
   "metadata": {},
   "outputs": [
    {
     "name": "stdout",
     "output_type": "stream",
     "text": [
      "[[[18 11  1 23]\n",
      "  [12 22 16  6]\n",
      "  [17 21 10  5]]\n",
      "\n",
      " [[10 10 15  3]\n",
      "  [ 9  1 11  9]\n",
      "  [19  6  4 13]]]\n",
      "\n",
      " este es el array transpuesto \n",
      " [[[18 10]\n",
      "  [12  9]\n",
      "  [17 19]]\n",
      "\n",
      " [[11 10]\n",
      "  [22  1]\n",
      "  [21  6]]\n",
      "\n",
      " [[ 1 15]\n",
      "  [16 11]\n",
      "  [10  4]]\n",
      "\n",
      " [[23  3]\n",
      "  [ 6  9]\n",
      "  [ 5 13]]]\n"
     ]
    }
   ],
   "source": [
    "array_tridimensional5 = np.random.randint (1,25, (2,3,4))\n",
    "print (f\"{array_tridimensional5}\")\n",
    "array_transpuesto = np.transpose (array_tridimensional5, (2,1,0))\n",
    "print (f\"\\n este es el array transpuesto \\n {array_transpuesto}\")"
   ]
  },
  {
   "cell_type": "markdown",
   "id": "48e01ee6",
   "metadata": {},
   "source": [
    "### Ha cambiado el numero de columnas por el numero de arrays, el numero de arrays por el numero de columnas y las filas las ha dejado igual."
   ]
  },
  {
   "cell_type": "markdown",
   "id": "1e32b5e6",
   "metadata": {},
   "source": [
    "#### Ejercicio 15 - Genera un array tridimensional de dimensiones (3, 4, 2) con valores enteros del 1 al 24.\n",
    "\n",
    "- Transpón el array para intercambiar el primer y segundo eje, de manera que la nueva forma del array sea (4, 3, 2).\n"
   ]
  },
  {
   "cell_type": "code",
   "execution_count": null,
   "id": "0146fdd6",
   "metadata": {},
   "outputs": [
    {
     "name": "stdout",
     "output_type": "stream",
     "text": [
      "[[[10  6]\n",
      "  [22  5]\n",
      "  [18 12]\n",
      "  [24 16]]\n",
      "\n",
      " [[11 12]\n",
      "  [ 5  6]\n",
      "  [ 8 24]\n",
      "  [ 5 11]]\n",
      "\n",
      " [[ 9 15]\n",
      "  [13  5]\n",
      "  [ 8  2]\n",
      "  [14 16]]]\n"
     ]
    }
   ],
   "source": [
    "array_tridimensional6 = np.random.randint (1,25,(3,4,2))\n",
    "print (f\"{array_tridimensional6}\")\n"
   ]
  },
  {
   "cell_type": "code",
   "execution_count": null,
   "id": "b0b71c53",
   "metadata": {},
   "outputs": [
    {
     "name": "stdout",
     "output_type": "stream",
     "text": [
      "[[[10  6]\n",
      "  [11 12]\n",
      "  [ 9 15]]\n",
      "\n",
      " [[22  5]\n",
      "  [ 5  6]\n",
      "  [13  5]]\n",
      "\n",
      " [[18 12]\n",
      "  [ 8 24]\n",
      "  [ 8  2]]\n",
      "\n",
      " [[24 16]\n",
      "  [ 5 11]\n",
      "  [14 16]]]\n"
     ]
    }
   ],
   "source": [
    "array_transpuesto2 = np.transpose (array_tridimensional6, (1,0,2))\n",
    "print (f\"{array_transpuesto2}\")"
   ]
  },
  {
   "cell_type": "markdown",
   "id": "fcf92586",
   "metadata": {},
   "source": [
    "#### Ejercicio 16 - Genera un array tridimensional de dimensiones (3, 2, 4) con valores enteros del 1 al 24.\n",
    "\n",
    "- Realiza una rotación completa de los ejes para convertir la forma original (3, 2, 4) en (4, 3, 2).\n"
   ]
  },
  {
   "cell_type": "code",
   "execution_count": null,
   "id": "dd2c7f27",
   "metadata": {},
   "outputs": [
    {
     "name": "stdout",
     "output_type": "stream",
     "text": [
      "[[[22 16 13 22]\n",
      "  [ 3  2  5 17]]\n",
      "\n",
      " [[17 23 14 17]\n",
      "  [11 19 22  5]]\n",
      "\n",
      " [[13  6 22  4]\n",
      "  [ 9 22 17 23]]]\n"
     ]
    }
   ],
   "source": [
    "array_tridimensional7 = np.random.randint (1,24, (3,2,4), dtype=int)\n",
    "print (f\"{array_tridimensional7}\")"
   ]
  },
  {
   "cell_type": "code",
   "execution_count": null,
   "id": "091e92f3",
   "metadata": {},
   "outputs": [
    {
     "name": "stdout",
     "output_type": "stream",
     "text": [
      "[[[22  3]\n",
      "  [17 11]\n",
      "  [13  9]]\n",
      "\n",
      " [[16  2]\n",
      "  [23 19]\n",
      "  [ 6 22]]\n",
      "\n",
      " [[13  5]\n",
      "  [14 22]\n",
      "  [22 17]]\n",
      "\n",
      " [[22 17]\n",
      "  [17  5]\n",
      "  [ 4 23]]]\n"
     ]
    }
   ],
   "source": [
    "array_transpuesto3 = np.transpose (array_tridimensional7, (2,0,1))\n",
    "print (f\"{array_transpuesto3}\")"
   ]
  },
  {
   "cell_type": "markdown",
   "id": "1795e11f",
   "metadata": {},
   "source": [
    "#### Ejercicio 17 - Manipulación de Arrays en 3D\n",
    "\n",
    "- Crea un array tridimensional con dimensiones (3, 4, 5) cuyos elementos sean números enteros aleatorios entre -10 y 10.\n",
    "\n",
    "- Crea un array vacío con la misma forma y dimensiones que el array creado anteriormente. Luego, reemplaza los valores de la matriz vacía basada en los valores del primer array bajo las siguientes condiciones:\n",
    "\n",
    "   - Si el valor es igual a la mediana, se reemplaza por `\"M\"`.\n",
    "\n",
    "   - Si el valor es mayor que la mediana, se reemplaza por `\"X\"`.\n",
    "\n",
    "   - Si el valor es menor que la mediana, se reemplaza por `\"Y\"`.\n",
    "\n",
    "   - Si el valor es igual al máximo, se reemplaza por `\"MAX\"`.\n",
    "\n",
    "   - Si el valor es igual al mínimo, se reemplaza por `\"MIN\"`.\n"
   ]
  },
  {
   "cell_type": "code",
   "execution_count": 17,
   "id": "d309b397",
   "metadata": {},
   "outputs": [
    {
     "name": "stdout",
     "output_type": "stream",
     "text": [
      "[[[  4   1  -6  -8  -8]\n",
      "  [  7  -5   2  -6   8]\n",
      "  [  9   8  -2   5   2]\n",
      "  [ -9   9   5   6  -3]]\n",
      "\n",
      " [[ 10   1  -9   8  -2]\n",
      "  [  3   7   6   0   6]\n",
      "  [ 10   9   4   1  -3]\n",
      "  [  0   1   1   3   9]]\n",
      "\n",
      " [[ -5   2   8   2  -2]\n",
      "  [ 10  -9   2  -5   3]\n",
      "  [ -4  -5  -1   4  -9]\n",
      "  [  4 -10  -7   7  -8]]]\n"
     ]
    }
   ],
   "source": [
    "array_tridimensional8 = np.random.randint (-10,11,(3,4,5))\n",
    "print (f\"{array_tridimensional8}\")"
   ]
  },
  {
   "cell_type": "code",
   "execution_count": 47,
   "id": "3fd2800e",
   "metadata": {},
   "outputs": [
    {
     "data": {
      "text/plain": [
       "array([[['X', 'Y', 'Y', 'Y', 'Y'],\n",
       "        ['X', 'Y', 'M', 'Y', 'X'],\n",
       "        ['X', 'X', 'Y', 'X', 'M'],\n",
       "        ['Y', 'X', 'X', 'X', 'Y']],\n",
       "\n",
       "       [['MAX', 'Y', 'Y', 'X', 'Y'],\n",
       "        ['X', 'X', 'X', 'Y', 'X'],\n",
       "        ['MAX', 'X', 'X', 'Y', 'Y'],\n",
       "        ['Y', 'Y', 'Y', 'X', 'X']],\n",
       "\n",
       "       [['Y', 'M', 'X', 'M', 'Y'],\n",
       "        ['MAX', 'Y', 'M', 'Y', 'X'],\n",
       "        ['Y', 'Y', 'Y', 'X', 'Y'],\n",
       "        ['X', 'MIN', 'Y', 'X', 'Y']]], dtype=object)"
      ]
     },
     "execution_count": 47,
     "metadata": {},
     "output_type": "execute_result"
    }
   ],
   "source": [
    "import numpy as np\n",
    "\n",
    "array_vacio = np.empty ((3,4,5),dtype=object)\n",
    "mediana = np.median (array_tridimensional8)\n",
    "maximo = np.max(array_tridimensional8)\n",
    "minimo = np.min (array_tridimensional8)\n",
    "\n",
    "array_vacio [array_tridimensional8 == mediana] = \"M\"\n",
    "array_vacio [array_tridimensional8 > mediana] = \"X\"\n",
    "array_vacio [array_tridimensional8 < mediana] = \"Y\"\n",
    "array_vacio [array_tridimensional8 == maximo] = \"MAX\"\n",
    "array_vacio [array_tridimensional8 == minimo] = \"MIN\"\n",
    "\n",
    "array_vacio\n"
   ]
  },
  {
   "cell_type": "markdown",
   "id": "83794704",
   "metadata": {},
   "source": [
    "#### Ejercicio 18 - Verificación de Filas y Columnas Iguales\n",
    "\n",
    "Crea un array bidimensional de dimensiones 4x4, escribe un código para determinar si alguna fila es exactamente igual a alguna columna.\n",
    "\n",
    "**Reglas:**\n",
    "\n",
    "- No puedes usar funciones predefinidas de NumPy para comparar filas y columnas (`np.array_equal`, etc.).\n",
    "\n",
    "- Debes resolverlo con estructuras básicas de Python (bucles, condicionales, etc.).\n",
    "\n",
    "- Debes revisar si hay al menos una fila que coincida exactamente con alguna columna.\n",
    "\n",
    "**Pistas**:\n",
    "\n",
    "- Puedes recorrer cada fila y cada columna de la matriz usando bucles.\n",
    "\n",
    "- Para comparar una fila con una columna, puedes hacerlo elemento por elemento."
   ]
  },
  {
   "cell_type": "code",
   "execution_count": 40,
   "id": "afd51c60",
   "metadata": {},
   "outputs": [
    {
     "data": {
      "text/plain": [
       "array([[  5,  10,  15,  20],\n",
       "       [100, 200, 300, 400],\n",
       "       [  5,  10,  15,  20],\n",
       "       [101, 200, 300, 400]])"
      ]
     },
     "execution_count": 40,
     "metadata": {},
     "output_type": "execute_result"
    }
   ],
   "source": [
    "array_bidimensional8 = np.array ([[5,10,15,20],[100,200,300,400],[5,10,15,20],[101,200,300,400]])\n",
    "array_bidimensional8\n"
   ]
  },
  {
   "cell_type": "code",
   "execution_count": 46,
   "id": "72f68a5a",
   "metadata": {},
   "outputs": [
    {
     "name": "stdout",
     "output_type": "stream",
     "text": [
      "No hay filas iguales\n",
      "No hay filas iguales\n",
      "No hay filas iguales\n",
      "No hay filas iguales\n",
      "No hay filas iguales\n",
      "No hay filas iguales\n",
      "No hay filas iguales\n",
      "No hay filas iguales\n",
      "No hay filas iguales\n",
      "No hay filas iguales\n",
      "No hay filas iguales\n",
      "No hay filas iguales\n",
      "No hay filas iguales\n",
      "No hay filas iguales\n",
      "No hay filas iguales\n",
      "No hay filas iguales\n",
      "No hay filas iguales\n",
      "No hay filas iguales\n",
      "No hay filas iguales\n",
      "No hay filas iguales\n",
      "No hay filas iguales\n",
      "No hay filas iguales\n",
      "No hay filas iguales\n",
      "No hay filas iguales\n",
      "No hay filas iguales\n",
      "No hay filas iguales\n",
      "No hay filas iguales\n",
      "No hay filas iguales\n",
      "No hay filas iguales\n",
      "No hay filas iguales\n",
      "No hay filas iguales\n",
      "No hay filas iguales\n",
      "No hay filas iguales\n",
      "No hay filas iguales\n",
      "No hay filas iguales\n",
      "No hay filas iguales\n",
      "No hay filas iguales\n",
      "No hay filas iguales\n",
      "No hay filas iguales\n",
      "No hay filas iguales\n",
      "No hay filas iguales\n",
      "No hay filas iguales\n",
      "No hay filas iguales\n",
      "No hay filas iguales\n",
      "No hay filas iguales\n",
      "No hay filas iguales\n",
      "No hay filas iguales\n",
      "No hay filas iguales\n",
      "No hay filas iguales\n",
      "No hay filas iguales\n",
      "No hay filas iguales\n",
      "No hay filas iguales\n",
      "No hay filas iguales\n",
      "No hay filas iguales\n",
      "No hay filas iguales\n",
      "No hay filas iguales\n",
      "No hay filas iguales\n",
      "No hay filas iguales\n",
      "No hay filas iguales\n",
      "No hay filas iguales\n",
      "No hay filas iguales\n",
      "No hay filas iguales\n",
      "No hay filas iguales\n",
      "No hay filas iguales\n",
      "No hay filas iguales\n",
      "No hay filas iguales\n",
      "No hay filas iguales\n",
      "No hay filas iguales\n",
      "No hay filas iguales\n",
      "No hay filas iguales\n",
      "No hay filas iguales\n",
      "No hay filas iguales\n",
      "No hay filas iguales\n",
      "No hay filas iguales\n",
      "No hay filas iguales\n",
      "No hay filas iguales\n",
      "No hay filas iguales\n",
      "No hay filas iguales\n",
      "No hay filas iguales\n",
      "No hay filas iguales\n",
      "No hay filas iguales\n",
      "No hay filas iguales\n",
      "No hay filas iguales\n",
      "No hay filas iguales\n",
      "No hay filas iguales\n",
      "No hay filas iguales\n",
      "No hay filas iguales\n",
      "No hay filas iguales\n",
      "No hay filas iguales\n",
      "No hay filas iguales\n",
      "No hay filas iguales\n",
      "No hay filas iguales\n",
      "No hay filas iguales\n",
      "No hay filas iguales\n",
      "No hay filas iguales\n",
      "No hay filas iguales\n",
      "No hay filas iguales\n",
      "No hay filas iguales\n",
      "No hay filas iguales\n",
      "No hay filas iguales\n",
      "No hay filas iguales\n",
      "No hay filas iguales\n",
      "No hay filas iguales\n",
      "No hay filas iguales\n",
      "No hay filas iguales\n",
      "No hay filas iguales\n",
      "No hay filas iguales\n",
      "No hay filas iguales\n",
      "No hay filas iguales\n",
      "No hay filas iguales\n",
      "No hay filas iguales\n",
      "No hay filas iguales\n",
      "No hay filas iguales\n",
      "No hay filas iguales\n",
      "No hay filas iguales\n",
      "No hay filas iguales\n",
      "No hay filas iguales\n",
      "No hay filas iguales\n",
      "No hay filas iguales\n",
      "No hay filas iguales\n",
      "No hay filas iguales\n",
      "No hay filas iguales\n",
      "No hay filas iguales\n",
      "No hay filas iguales\n",
      "No hay filas iguales\n",
      "No hay filas iguales\n",
      "No hay filas iguales\n",
      "No hay filas iguales\n",
      "No hay filas iguales\n",
      "No hay filas iguales\n",
      "No hay filas iguales\n",
      "No hay filas iguales\n",
      "No hay filas iguales\n",
      "No hay filas iguales\n",
      "No hay filas iguales\n",
      "No hay filas iguales\n",
      "No hay filas iguales\n",
      "No hay filas iguales\n",
      "No hay filas iguales\n",
      "No hay filas iguales\n",
      "No hay filas iguales\n",
      "No hay filas iguales\n",
      "No hay filas iguales\n",
      "No hay filas iguales\n",
      "No hay filas iguales\n",
      "No hay filas iguales\n",
      "No hay filas iguales\n",
      "No hay filas iguales\n",
      "No hay filas iguales\n",
      "No hay filas iguales\n",
      "No hay filas iguales\n",
      "No hay filas iguales\n",
      "No hay filas iguales\n",
      "No hay filas iguales\n",
      "No hay filas iguales\n",
      "No hay filas iguales\n",
      "No hay filas iguales\n",
      "No hay filas iguales\n",
      "No hay filas iguales\n",
      "No hay filas iguales\n",
      "No hay filas iguales\n",
      "No hay filas iguales\n",
      "No hay filas iguales\n",
      "No hay filas iguales\n",
      "No hay filas iguales\n",
      "No hay filas iguales\n",
      "No hay filas iguales\n",
      "No hay filas iguales\n",
      "No hay filas iguales\n",
      "No hay filas iguales\n",
      "No hay filas iguales\n",
      "No hay filas iguales\n",
      "No hay filas iguales\n",
      "No hay filas iguales\n",
      "No hay filas iguales\n",
      "No hay filas iguales\n",
      "No hay filas iguales\n",
      "No hay filas iguales\n",
      "No hay filas iguales\n",
      "No hay filas iguales\n",
      "No hay filas iguales\n",
      "No hay filas iguales\n",
      "No hay filas iguales\n",
      "No hay filas iguales\n",
      "No hay filas iguales\n",
      "No hay filas iguales\n",
      "No hay filas iguales\n",
      "No hay filas iguales\n",
      "No hay filas iguales\n",
      "No hay filas iguales\n",
      "No hay filas iguales\n",
      "No hay filas iguales\n",
      "No hay filas iguales\n",
      "No hay filas iguales\n",
      "No hay filas iguales\n",
      "No hay filas iguales\n",
      "No hay filas iguales\n",
      "No hay filas iguales\n",
      "No hay filas iguales\n",
      "No hay filas iguales\n",
      "No hay filas iguales\n",
      "No hay filas iguales\n",
      "No hay filas iguales\n",
      "No hay filas iguales\n",
      "No hay filas iguales\n",
      "No hay filas iguales\n",
      "No hay filas iguales\n",
      "No hay filas iguales\n",
      "No hay filas iguales\n",
      "No hay filas iguales\n",
      "No hay filas iguales\n",
      "No hay filas iguales\n",
      "No hay filas iguales\n",
      "No hay filas iguales\n",
      "No hay filas iguales\n",
      "No hay filas iguales\n",
      "No hay filas iguales\n",
      "No hay filas iguales\n",
      "No hay filas iguales\n",
      "No hay filas iguales\n",
      "No hay filas iguales\n",
      "No hay filas iguales\n",
      "No hay filas iguales\n",
      "No hay filas iguales\n",
      "No hay filas iguales\n",
      "No hay filas iguales\n",
      "No hay filas iguales\n",
      "No hay filas iguales\n",
      "No hay filas iguales\n",
      "No hay filas iguales\n",
      "No hay filas iguales\n",
      "No hay filas iguales\n",
      "No hay filas iguales\n",
      "No hay filas iguales\n",
      "No hay filas iguales\n",
      "No hay filas iguales\n",
      "No hay filas iguales\n",
      "No hay filas iguales\n",
      "No hay filas iguales\n",
      "No hay filas iguales\n",
      "No hay filas iguales\n",
      "No hay filas iguales\n",
      "No hay filas iguales\n",
      "No hay filas iguales\n",
      "No hay filas iguales\n",
      "No hay filas iguales\n",
      "No hay filas iguales\n",
      "No hay filas iguales\n",
      "No hay filas iguales\n",
      "No hay filas iguales\n",
      "No hay filas iguales\n",
      "No hay filas iguales\n",
      "No hay filas iguales\n",
      "No hay filas iguales\n",
      "No hay filas iguales\n",
      "No hay filas iguales\n"
     ]
    }
   ],
   "source": [
    "fila0 = array_bidimensional8 [0]\n",
    "fila1 = array_bidimensional8 [1]\n",
    "fila2 = array_bidimensional8 [2]\n",
    "fila3 = array_bidimensional8 [3]\n",
    "\n",
    "for i in fila0:\n",
    "    for j in fila1:\n",
    "        for k in fila2:\n",
    "            for l in fila3:\n",
    "                if i!=j or i!=k or i!=l:\n",
    "                    print (\"No hay filas iguales\")\n",
    "                elif i == j or i == k or i== l: \n",
    "                    print(f\"Fila 0 tiene una fila igual\")\n",
    "                elif j == i or j == k or j == l: \n",
    "                    print(f\"Fila 1 tiene una fila igual\")\n",
    "                elif k == i or k == j or k == l: \n",
    "                    print(f\"Fila 2 tiene una fila igual\")\n",
    "                elif l == i or l == j or l == k: \n",
    "                    print(f\"Fila 2 tiene una fila igual\")\n",
    "                else: print (f\"No hay filas iguales\")\n",
    "\n",
    "\n"
   ]
  }
 ],
 "metadata": {
  "kernelspec": {
   "display_name": "Python 3",
   "language": "python",
   "name": "python3"
  },
  "language_info": {
   "codemirror_mode": {
    "name": "ipython",
    "version": 3
   },
   "file_extension": ".py",
   "mimetype": "text/x-python",
   "name": "python",
   "nbconvert_exporter": "python",
   "pygments_lexer": "ipython3",
   "version": "3.12.6"
  }
 },
 "nbformat": 4,
 "nbformat_minor": 5
}
