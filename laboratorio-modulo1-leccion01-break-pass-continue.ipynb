{
 "cells": [
  {
   "cell_type": "markdown",
   "metadata": {},
   "source": [
    "\n",
    "<div style=\"text-align: center;\">\n",
    "  <img src=\"https://github.com/Hack-io-Data/Imagenes/blob/main/01-LogosHackio/logo_celeste@4x.png?raw=true\" alt=\"esquema\" />\n",
    "</div>\n"
   ]
  },
  {
   "cell_type": "markdown",
   "metadata": {},
   "source": [
    "# Laboratorio de Python: break(), pass(), continue()"
   ]
  },
  {
   "cell_type": "markdown",
   "metadata": {},
   "source": [
    "## Ejercicio 1: Validación de datos numéricos. \n",
    "\n",
    "Escribe un bucle que lea una lista de números y detenga la ejecución si encuentra un valor negativo. Muestra un mensaje indicando el número negativo encontrado.\n"
   ]
  },
  {
   "cell_type": "code",
   "execution_count": 7,
   "metadata": {},
   "outputs": [
    {
     "name": "stdout",
     "output_type": "stream",
     "text": [
      "El numero 1 es correcto\n",
      "El numero 2 es correcto\n",
      "El numero -3 es negativo\n"
     ]
    }
   ],
   "source": [
    "lista_numeros = [1,2,-3,4,5]\n",
    "for i in lista_numeros:\n",
    "    if i < 0:\n",
    "        print(f\"El numero {i} es negativo\")\n",
    "        break\n",
    "    else: print (f\"El numero {i} es correcto\")"
   ]
  },
  {
   "cell_type": "markdown",
   "metadata": {},
   "source": [
    "\n",
    "## Ejercicio 2: Filtrado de datos\n",
    "\n",
    "Escribe un bucle que imprima los números de una lista, pero que omita los números pares.\n"
   ]
  },
  {
   "cell_type": "code",
   "execution_count": 9,
   "metadata": {},
   "outputs": [
    {
     "data": {
      "text/plain": [
       "[1, 3, 5]"
      ]
     },
     "execution_count": 9,
     "metadata": {},
     "output_type": "execute_result"
    }
   ],
   "source": [
    "lista_numeros2 = [1,2,3,4,5]\n",
    "lista_impares = []\n",
    "for i in lista_numeros2:\n",
    "    if i % 2 == 0:\n",
    "        pass\n",
    "    else: lista_impares.append (i)\n",
    "lista_impares"
   ]
  },
  {
   "cell_type": "markdown",
   "metadata": {},
   "source": [
    "## Ejercicio 3: Búsqueda de un valor\n",
    "\n",
    "Escribe un programa que busque un valor específico en una lista y detenga la búsqueda cuando lo encuentre. Si se encuentra, muestra un mensaje.\n"
   ]
  },
  {
   "cell_type": "code",
   "execution_count": 18,
   "metadata": {},
   "outputs": [
    {
     "name": "stdout",
     "output_type": "stream",
     "text": [
      "El numero 4 está en la lista\n"
     ]
    }
   ],
   "source": [
    "lista_numeros3 = [1,2,3,4,5]\n",
    "numero_buscado = int(input(\"Introduce el valor a buscar\"))\n",
    "for i in lista_numeros3:\n",
    "    if i == numero_buscado:\n",
    "        print(f\"El numero {i} está en la lista\")\n",
    "        break\n",
    "    \n"
   ]
  },
  {
   "cell_type": "markdown",
   "metadata": {},
   "source": [
    "## Ejercicio 4: Estructura de código incompleto\n",
    "\n",
    "Define una función que aún no tenga lógica implementada, pero que se pueda ejecutar sin errores utilizando `pass`."
   ]
  },
  {
   "cell_type": "code",
   "execution_count": null,
   "metadata": {},
   "outputs": [],
   "source": [
    "def buque_control (lista):\n",
    "    for i in lista:\n",
    "        if i > 5:\n",
    "            print(f\"el numero {i} no es correcto\")\n",
    "    pass"
   ]
  },
  {
   "cell_type": "markdown",
   "metadata": {},
   "source": [
    "## Ejercicio 5: Validación condicional\n",
    "\n",
    "Escribe un bucle que verifique una lista de nombres. Si encuentra un nombre vacío (cadena vacía), salta esa iteración y continúa con los demás nombres.\n"
   ]
  },
  {
   "cell_type": "code",
   "execution_count": null,
   "metadata": {},
   "outputs": [
    {
     "name": "stdout",
     "output_type": "stream",
     "text": [
      "Juan está en la lista\n",
      "Pedro está en la lista\n",
      "Lola está en la lista\n"
     ]
    }
   ],
   "source": [
    "lista_nombre = [\"Juan\", \"Pedro\", \" \", \"Lola\"]\n",
    "\n",
    "for i in lista_nombre:\n",
    "    if i == \" \":\n",
    "        continue\n",
    "    else: print(f\"{i} está en la lista\")"
   ]
  },
  {
   "cell_type": "markdown",
   "metadata": {},
   "source": [
    "## Ejercicio 6: Búsqueda de claves en un diccionario\n",
    "\n",
    "Escribe un programa que recorra un diccionario y detenga la búsqueda si encuentra una clave específica pasada por el usuario.\n"
   ]
  },
  {
   "cell_type": "code",
   "execution_count": 29,
   "metadata": {},
   "outputs": [
    {
     "name": "stdout",
     "output_type": "stream",
     "text": [
      "la clave coche está en el diccionario\n"
     ]
    }
   ],
   "source": [
    "def buscar_diccionario (diccionario, clave):\n",
    "    for i in diccionario:   \n",
    "        if i == clave:\n",
    "         print(f\"la clave {i} está en el diccionario\")\n",
    "         break\n",
    "        else: print (f\"la clave {clave} no esta en el diccionario\")\n",
    "\n",
    "clave_input = \"coche\"\n",
    "diccionario_coche = {\"coche\" : \"azul\", \"marca\": \"bmw\", \"animal\": \"gato\"}\n",
    "buscar_diccionario (diccionario_coche, clave_input)\n"
   ]
  },
  {
   "cell_type": "markdown",
   "metadata": {},
   "source": [
    "## Ejercicio 7: Bucle con múltiples excepciones\n",
    "\n",
    "Escribe un bucle que procese una lista de operaciones matemáticas, omitiendo las operaciones que intenten dividir por cero.\n"
   ]
  },
  {
   "cell_type": "code",
   "execution_count": 2,
   "metadata": {},
   "outputs": [
    {
     "name": "stdout",
     "output_type": "stream",
     "text": [
      " no se puede dividir entre 0\n",
      "La lista de divisiones es [-1.3333333333333333, -2.0, -4.0, 4.0, 2.0, 1.3333333333333333, 1.0, 0.8, 0.6666666666666666, 0.5714285714285714] \n"
     ]
    }
   ],
   "source": [
    "divisiones = []\n",
    "\n",
    "for i in range (-3,8):\n",
    "    try:      \n",
    "        divisiones.append (4/i)\n",
    "\n",
    "    except: print(f\" no se puede dividir entre {i}\")\n",
    "\n",
    "print (f\"La lista de divisiones es {divisiones} \")\n"
   ]
  },
  {
   "cell_type": "markdown",
   "metadata": {},
   "source": [
    "## Ejercicio 8: Búsqueda en una lista anidada\n",
    "\n",
    "Escribe un programa que recorra una lista de listas y detenga la búsqueda cuando encuentre un valor mayor a 50.\n"
   ]
  },
  {
   "cell_type": "code",
   "execution_count": 3,
   "metadata": {},
   "outputs": [
    {
     "name": "stdout",
     "output_type": "stream",
     "text": [
      "El valor 1 cumple la condicion\n",
      "El valor 10 cumple la condicion\n",
      "El valor 20 cumple la condicion\n",
      "El valor 30 cumple la condicion\n",
      "El valor 40 cumple la condicion\n",
      "El valor 50 cumple la condicion\n",
      "El valor 60 es mayor de 50\n"
     ]
    }
   ],
   "source": [
    "lista1 = [1,10,20,30,40,50,60]\n",
    "lista2 = [100,60,80,20]\n",
    "lista_listas = lista1 + lista2\n",
    "lista_listas\n",
    "\n",
    "for i in lista_listas:\n",
    "    if i > 50:\n",
    "        print(f\"El valor {i} es mayor de 50\")\n",
    "        break\n",
    "    else: print (f\"El valor {i} cumple la condicion\")"
   ]
  },
  {
   "cell_type": "markdown",
   "metadata": {},
   "source": [
    "## Ejercicio 9: Evaluación de series temporales\n",
    "\n",
    "Escribe un programa que recorra una lista de datos de series temporales y se detenga si encuentra un valor atípico (mayor a 100).\n"
   ]
  },
  {
   "cell_type": "code",
   "execution_count": 5,
   "metadata": {},
   "outputs": [
    {
     "name": "stdout",
     "output_type": "stream",
     "text": [
      "El valor 150 es mayor de 100\n"
     ]
    }
   ],
   "source": [
    "def temporal (serie):\n",
    "    for i in serie:\n",
    "      if i > 100:\n",
    "        print (f\"El valor {i} es mayor de 100\")\n",
    "        break\n",
    "    else: print(\"No se han encontrado valores atipicos en la lista\")\n",
    "\n",
    "serie_temporal = [10, 25, 150, 50, 70]\n",
    "temporal (serie_temporal)\n"
   ]
  },
  {
   "cell_type": "markdown",
   "metadata": {},
   "source": [
    "## Ejercicio 10: Iteración con valores faltantes\n",
    "\n",
    "Crea un bucle que recorra una lista de datos de ventas y salte los valores faltantes representados por `None`."
   ]
  },
  {
   "cell_type": "code",
   "execution_count": 9,
   "metadata": {},
   "outputs": [
    {
     "name": "stdout",
     "output_type": "stream",
     "text": [
      "La tienda ha facturado 1000\n",
      "La tienda ha facturado 2000\n",
      "El codigo no es correcto\n",
      "La tienda ha facturado 50000\n",
      "El codigo no es correcto\n",
      "La tienda ha facturado 2000\n",
      "La tienda ha facturado 30000\n",
      "El codigo no es correcto\n"
     ]
    }
   ],
   "source": [
    "lista_ventas = [1000, 2000, None, 50000, None, 2000, 30000, None]\n",
    "\n",
    "for i in lista_ventas:\n",
    "    if i is not None:\n",
    "        print (f\"La tienda ha facturado {i}\")\n",
    "    else: print (f\"El codigo no es correcto\") \n",
    "    continue"
   ]
  },
  {
   "cell_type": "markdown",
   "metadata": {},
   "source": [
    "## Ejercicio 11: Control de flujo en bucles anidados\n",
    "\n",
    "Escribe un bucle que recorra la matriz dada y se detenga si se encuentra un número negativo, mostrando su posición.\n",
    "\n"
   ]
  },
  {
   "cell_type": "code",
   "execution_count": 17,
   "metadata": {},
   "outputs": [
    {
     "name": "stdout",
     "output_type": "stream",
     "text": [
      "El numero 1 no es negativo\n",
      "El numero 2 no es negativo\n",
      "El numero 3 no es negativo\n",
      "El numero 4 no es negativo\n",
      "El numero -6 es negativo, cuya posicion es 4\n"
     ]
    }
   ],
   "source": [
    "lista_matriz = [1,2,3,4,-6,8,9]\n",
    "posicion = 0\n",
    "for i in lista_matriz:\n",
    "    if i < 0:\n",
    "        posicion = lista_matriz.index (i)\n",
    "        print (f\"El numero {i} es negativo, cuya posicion es {posicion}\")\n",
    "        break\n",
    "    else: print (f\"El numero {i} no es negativo\")"
   ]
  }
 ],
 "metadata": {
  "kernelspec": {
   "display_name": "Python 3",
   "language": "python",
   "name": "python3"
  },
  "language_info": {
   "codemirror_mode": {
    "name": "ipython",
    "version": 3
   },
   "file_extension": ".py",
   "mimetype": "text/x-python",
   "name": "python",
   "nbconvert_exporter": "python",
   "pygments_lexer": "ipython3",
   "version": "3.12.6"
  }
 },
 "nbformat": 4,
 "nbformat_minor": 2
}
